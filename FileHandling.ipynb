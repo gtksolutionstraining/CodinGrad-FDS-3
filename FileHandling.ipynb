{
 "cells": [
  {
   "cell_type": "markdown",
   "id": "aecddb50",
   "metadata": {},
   "source": [
    "# File Handling\n",
    "- File Opening modes\n",
    "- Creating a file or Overwriting a file --> \"w\" (It will create if file doesn't exist & it will empty the file if it exists)\n",
    "- Reading a file                        --> \"r\" (It will open a file which is already existed. you are not allowed to write into the file. If you want open a file which is not created yet in reading mode it will you an error --> FileNotExists)\n",
    "- Appending a file                      --> \"a\" (It will create if file doesn't exist & it will not empty the file if it exists instead we can append the data to the same file)\n",
    "- file Flushing will flush the data that is present in file buffer to disk\n",
    "- file closing will close(remove from RAM) the file buffer. Before removing it will flushes all remaining data that is present in file buffer to disk and then it will remove RAM."
   ]
  },
  {
   "cell_type": "code",
   "execution_count": 11,
   "id": "3455e4b5",
   "metadata": {},
   "outputs": [],
   "source": [
    "file = open(\"welcome1.txt\",\"a\")"
   ]
  },
  {
   "cell_type": "code",
   "execution_count": 6,
   "id": "eff0fac2",
   "metadata": {},
   "outputs": [
    {
     "data": {
      "text/plain": [
       "24"
      ]
     },
     "execution_count": 6,
     "metadata": {},
     "output_type": "execute_result"
    }
   ],
   "source": [
    "file.write(\"WELCOME TO FILE HANDLING\")"
   ]
  },
  {
   "cell_type": "code",
   "execution_count": 7,
   "id": "a9ca1c64",
   "metadata": {},
   "outputs": [],
   "source": [
    "file.flush()"
   ]
  },
  {
   "cell_type": "code",
   "execution_count": 5,
   "id": "6a74068b",
   "metadata": {},
   "outputs": [
    {
     "data": {
      "text/plain": [
       "20"
      ]
     },
     "execution_count": 5,
     "metadata": {},
     "output_type": "execute_result"
    }
   ],
   "source": [
    "file.write(\"Welcome to CodinGrad\")"
   ]
  },
  {
   "cell_type": "code",
   "execution_count": 8,
   "id": "96efe490",
   "metadata": {},
   "outputs": [],
   "source": [
    "file.close()"
   ]
  },
  {
   "cell_type": "code",
   "execution_count": 13,
   "id": "ec42af42",
   "metadata": {},
   "outputs": [],
   "source": [
    "file = open('welcome.txt','r')"
   ]
  },
  {
   "cell_type": "code",
   "execution_count": 14,
   "id": "829ca36b",
   "metadata": {},
   "outputs": [
    {
     "data": {
      "text/plain": [
       "'WELCOME TO FILE HANDLINGWELCOME TO FILE HANDLING'"
      ]
     },
     "execution_count": 14,
     "metadata": {},
     "output_type": "execute_result"
    }
   ],
   "source": [
    "file.read()"
   ]
  },
  {
   "cell_type": "code",
   "execution_count": 15,
   "id": "ecaa563c",
   "metadata": {},
   "outputs": [
    {
     "ename": "UnsupportedOperation",
     "evalue": "not writable",
     "output_type": "error",
     "traceback": [
      "\u001b[0;31m---------------------------------------------------------------------------\u001b[0m",
      "\u001b[0;31mUnsupportedOperation\u001b[0m                      Traceback (most recent call last)",
      "Cell \u001b[0;32mIn[15], line 1\u001b[0m\n\u001b[0;32m----> 1\u001b[0m \u001b[43mfile\u001b[49m\u001b[38;5;241;43m.\u001b[39;49m\u001b[43mwrite\u001b[49m\u001b[43m(\u001b[49m\u001b[38;5;124;43m\"\u001b[39;49m\u001b[38;5;124;43mI am not allowed\u001b[39;49m\u001b[38;5;124;43m\"\u001b[39;49m\u001b[43m)\u001b[49m\n",
      "\u001b[0;31mUnsupportedOperation\u001b[0m: not writable"
     ]
    }
   ],
   "source": [
    "file.write(\"I am not allowed\")"
   ]
  },
  {
   "cell_type": "code",
   "execution_count": 16,
   "id": "69d7a4bc",
   "metadata": {},
   "outputs": [],
   "source": [
    "import json"
   ]
  },
  {
   "cell_type": "code",
   "execution_count": 17,
   "id": "82c3f98c",
   "metadata": {},
   "outputs": [],
   "source": [
    "LMS = {}\n",
    "LMS[\"BOOKS\"] = []\n",
    "LMS[\"STUDENTS\"] = []\n",
    "LMS[\"TEACHERS\"] = []\n",
    "LMS[\"ADMINS\"] = [{\"USER\":\"THARUN\",\"PASSWORD\":\"Tharun123\"},{\"USER\":\"PRAKASH\",\"PASSWORD\":\"Prakash123\"}]"
   ]
  },
  {
   "cell_type": "code",
   "execution_count": 18,
   "id": "945c4438",
   "metadata": {},
   "outputs": [
    {
     "data": {
      "text/plain": [
       "{'BOOKS': [],\n",
       " 'STUDENTS': [],\n",
       " 'TEACHERS': [],\n",
       " 'ADMINS': [{'USER': 'THARUN', 'PASSWORD': 'Tharun123'},\n",
       "  {'USER': 'PRAKASH', 'PASSWORD': 'Prakash123'}]}"
      ]
     },
     "execution_count": 18,
     "metadata": {},
     "output_type": "execute_result"
    }
   ],
   "source": [
    "LMS"
   ]
  },
  {
   "cell_type": "code",
   "execution_count": 37,
   "id": "c62374d0",
   "metadata": {},
   "outputs": [],
   "source": [
    "file = open(\"LMS.json\",\"w\")"
   ]
  },
  {
   "cell_type": "code",
   "execution_count": 38,
   "id": "da350470",
   "metadata": {},
   "outputs": [
    {
     "data": {
      "text/plain": [
       "149"
      ]
     },
     "execution_count": 38,
     "metadata": {},
     "output_type": "execute_result"
    }
   ],
   "source": [
    "file.write(str(LMS).replace('\\'','\\\"'))"
   ]
  },
  {
   "cell_type": "code",
   "execution_count": 39,
   "id": "93d5b27a",
   "metadata": {},
   "outputs": [],
   "source": [
    "file.close()"
   ]
  },
  {
   "cell_type": "code",
   "execution_count": 49,
   "id": "54c259d1",
   "metadata": {},
   "outputs": [],
   "source": [
    "file = open('LMS.json','r')"
   ]
  },
  {
   "cell_type": "code",
   "execution_count": 50,
   "id": "f3714c31",
   "metadata": {},
   "outputs": [
    {
     "data": {
      "text/plain": [
       "dict"
      ]
     },
     "execution_count": 50,
     "metadata": {},
     "output_type": "execute_result"
    }
   ],
   "source": [
    "type(json.load(file))"
   ]
  },
  {
   "cell_type": "code",
   "execution_count": 53,
   "id": "f9a892d0",
   "metadata": {},
   "outputs": [],
   "source": [
    "LMS = {}\n",
    "\n",
    "LMS['STUDENTS'] = {}\n",
    "\n",
    "LMS['BOOKS'] = {}\n",
    "LMS['BOOKS']['CSE'] = {}\n",
    "LMS['BOOKS']['CSE']['1ST_YEAR'] = {}\n",
    "LMS['BOOKS']['CSE']['1ST_YEAR']['1ST_SEM'] = []\n",
    "LMS['BOOKS']['CSE']['1ST_YEAR']['2ND_SEM'] = []\n",
    "LMS['BOOKS']['CSE']['2ND_YEAR'] = {}\n",
    "LMS['BOOKS']['CSE']['2ND_YEAR']['1ST_SEM'] = []\n",
    "LMS['BOOKS']['CSE']['2ND_YEAR']['2ND_SEM'] = []\n",
    "LMS['BOOKS']['CSE']['3RD_YEAR'] = {}\n",
    "LMS['BOOKS']['CSE']['3RD_YEAR']['1ST_SEM'] = []\n",
    "LMS['BOOKS']['CSE']['3RD_YEAR']['2ND_SEM'] = []\n",
    "LMS['BOOKS']['CSE']['4TH_YEAR'] = {}\n",
    "LMS['BOOKS']['CSE']['4TH_YEAR']['1ST_SEM'] = []\n",
    "LMS['BOOKS']['CSE']['4TH_YEAR']['2ND_SEM'] = []\n",
    "\n",
    "LMS['BOOKS']['ECE'] = {}\n",
    "LMS['BOOKS']['ECE']['1ST_YEAR'] = {}\n",
    "LMS['BOOKS']['ECE']['1ST_YEAR']['1ST_SEM'] = []\n",
    "LMS['BOOKS']['ECE']['1ST_YEAR']['2ND_SEM'] = []\n",
    "LMS['BOOKS']['ECE']['2ND_YEAR'] = {}\n",
    "LMS['BOOKS']['ECE']['2ND_YEAR']['1ST_SEM'] = []\n",
    "LMS['BOOKS']['ECE']['2ND_YEAR']['2ND_SEM'] = []\n",
    "LMS['BOOKS']['ECE']['3RD_YEAR'] = {}\n",
    "LMS['BOOKS']['ECE']['3RD_YEAR']['1ST_SEM'] = []\n",
    "LMS['BOOKS']['ECE']['3RD_YEAR']['2ND_SEM'] = []\n",
    "LMS['BOOKS']['ECE']['4TH_YEAR'] = {}\n",
    "LMS['BOOKS']['ECE']['4TH_YEAR']['1ST_SEM'] = []\n",
    "LMS['BOOKS']['ECE']['4TH_YEAR']['2ND_SEM'] = []\n",
    "\n",
    "LMS['BOOKS']['EEE'] = {}\n",
    "LMS['BOOKS']['EEE']['1ST_YEAR'] = {}\n",
    "LMS['BOOKS']['EEE']['1ST_YEAR']['1ST_SEM'] = []\n",
    "LMS['BOOKS']['EEE']['1ST_YEAR']['2ND_SEM'] = []\n",
    "LMS['BOOKS']['EEE']['2ND_YEAR'] = {}\n",
    "LMS['BOOKS']['EEE']['2ND_YEAR']['1ST_SEM'] = []\n",
    "LMS['BOOKS']['EEE']['2ND_YEAR']['2ND_SEM'] = []\n",
    "LMS['BOOKS']['EEE']['3RD_YEAR'] = {}\n",
    "LMS['BOOKS']['EEE']['3RD_YEAR']['1ST_SEM'] = []\n",
    "LMS['BOOKS']['EEE']['3RD_YEAR']['2ND_SEM'] = []\n",
    "LMS['BOOKS']['EEE']['4TH_YEAR'] = {}\n",
    "LMS['BOOKS']['EEE']['4TH_YEAR']['1ST_SEM'] = []\n",
    "LMS['BOOKS']['EEE']['4TH_YEAR']['2ND_SEM'] = []\n",
    "\n",
    "LMS['BOOKS']['CIVIL'] = {}\n",
    "LMS['BOOKS']['CIVIL']['1ST_YEAR'] = {}\n",
    "LMS['BOOKS']['CIVIL']['1ST_YEAR']['1ST_SEM'] = []\n",
    "LMS['BOOKS']['CIVIL']['1ST_YEAR']['2ND_SEM'] = []\n",
    "LMS['BOOKS']['CIVIL']['2ND_YEAR'] = {}\n",
    "LMS['BOOKS']['CIVIL']['2ND_YEAR']['1ST_SEM'] = []\n",
    "LMS['BOOKS']['CIVIL']['2ND_YEAR']['2ND_SEM'] = []\n",
    "LMS['BOOKS']['CIVIL']['3RD_YEAR'] = {}\n",
    "LMS['BOOKS']['CIVIL']['3RD_YEAR']['1ST_SEM'] = []\n",
    "LMS['BOOKS']['CIVIL']['3RD_YEAR']['2ND_SEM'] = []\n",
    "LMS['BOOKS']['CIVIL']['4TH_YEAR'] = {}\n",
    "LMS['BOOKS']['CIVIL']['4TH_YEAR']['1ST_SEM'] = []\n",
    "LMS['BOOKS']['CIVIL']['4TH_YEAR']['2ND_SEM'] = []\n",
    "\n",
    "LMS['BOOKS']['MECH'] = {}\n",
    "LMS['BOOKS']['MECH']['1ST_YEAR'] = {}\n",
    "LMS['BOOKS']['MECH']['1ST_YEAR']['1ST_SEM'] = []\n",
    "LMS['BOOKS']['MECH']['1ST_YEAR']['2ND_SEM'] = []\n",
    "LMS['BOOKS']['MECH']['2ND_YEAR'] = {}\n",
    "LMS['BOOKS']['MECH']['2ND_YEAR']['1ST_SEM'] = []\n",
    "LMS['BOOKS']['MECH']['2ND_YEAR']['2ND_SEM'] = []\n",
    "LMS['BOOKS']['MECH']['3RD_YEAR'] = {}\n",
    "LMS['BOOKS']['MECH']['3RD_YEAR']['1ST_SEM'] = []\n",
    "LMS['BOOKS']['MECH']['3RD_YEAR']['2ND_SEM'] = []\n",
    "LMS['BOOKS']['MECH']['4TH_YEAR'] = {}\n",
    "LMS['BOOKS']['MECH']['4TH_YEAR']['1ST_SEM'] = []\n",
    "LMS['BOOKS']['MECH']['4TH_YEAR']['2ND_SEM'] = []\n",
    "\n",
    "LMS[\"TEACHERS\"] = {}\n",
    "\n",
    "LMS['LIB_ADMINS'] = [{\"USER_NAME\":\"THARUN\",\"PASSWORD\":\"Tharun123\"},\n",
    "                     {\"USER_NAME\":\"PRAKASH\",\"PASSWORD\":\"Prakash123\"}\n",
    "                     ]"
   ]
  },
  {
   "cell_type": "code",
   "execution_count": 54,
   "id": "7b45445d",
   "metadata": {},
   "outputs": [
    {
     "data": {
      "text/plain": [
       "{'STUDENTS': {},\n",
       " 'BOOKS': {'CSE': {'1ST_YEAR': {'1ST_SEM': [], '2ND_SEM': []},\n",
       "   '2ND_YEAR': {'1ST_SEM': [], '2ND_SEM': []},\n",
       "   '3RD_YEAR': {'1ST_SEM': [], '2ND_SEM': []},\n",
       "   '4TH_YEAR': {'1ST_SEM': [], '2ND_SEM': []}},\n",
       "  'ECE': {'1ST_YEAR': {'1ST_SEM': [], '2ND_SEM': []},\n",
       "   '2ND_YEAR': {'1ST_SEM': [], '2ND_SEM': []},\n",
       "   '3RD_YEAR': {'1ST_SEM': [], '2ND_SEM': []},\n",
       "   '4TH_YEAR': {'1ST_SEM': [], '2ND_SEM': []}},\n",
       "  'EEE': {'1ST_YEAR': {'1ST_SEM': [], '2ND_SEM': []},\n",
       "   '2ND_YEAR': {'1ST_SEM': [], '2ND_SEM': []},\n",
       "   '3RD_YEAR': {'1ST_SEM': [], '2ND_SEM': []},\n",
       "   '4TH_YEAR': {'1ST_SEM': [], '2ND_SEM': []}},\n",
       "  'CIVIL': {'1ST_YEAR': {'1ST_SEM': [], '2ND_SEM': []},\n",
       "   '2ND_YEAR': {'1ST_SEM': [], '2ND_SEM': []},\n",
       "   '3RD_YEAR': {'1ST_SEM': [], '2ND_SEM': []},\n",
       "   '4TH_YEAR': {'1ST_SEM': [], '2ND_SEM': []}},\n",
       "  'MECH': {'1ST_YEAR': {'1ST_SEM': [], '2ND_SEM': []},\n",
       "   '2ND_YEAR': {'1ST_SEM': [], '2ND_SEM': []},\n",
       "   '3RD_YEAR': {'1ST_SEM': [], '2ND_SEM': []},\n",
       "   '4TH_YEAR': {'1ST_SEM': [], '2ND_SEM': []}}},\n",
       " 'TEACHERS': {},\n",
       " 'LIB_ADMINS': [{'USER_NAME': 'THARUN', 'PASSWORD': 'Tharun123'},\n",
       "  {'USER_NAME': 'PRAKASH', 'PASSWORD': 'Prakash123'}]}"
      ]
     },
     "execution_count": 54,
     "metadata": {},
     "output_type": "execute_result"
    }
   ],
   "source": [
    "LMS"
   ]
  },
  {
   "cell_type": "code",
   "execution_count": 55,
   "id": "68420d19",
   "metadata": {},
   "outputs": [],
   "source": [
    "file = open(\"Projects/LMS/assets/LMS.json\",\"w\")"
   ]
  },
  {
   "cell_type": "code",
   "execution_count": 56,
   "id": "3bb02bb6",
   "metadata": {},
   "outputs": [
    {
     "data": {
      "text/plain": [
       "1089"
      ]
     },
     "execution_count": 56,
     "metadata": {},
     "output_type": "execute_result"
    }
   ],
   "source": [
    "file.write(str(LMS).replace('\\'','\\\"'))"
   ]
  },
  {
   "cell_type": "code",
   "execution_count": 57,
   "id": "af3e2003",
   "metadata": {},
   "outputs": [],
   "source": [
    "file.close()"
   ]
  },
  {
   "cell_type": "code",
   "execution_count": 58,
   "id": "ef77a4f9",
   "metadata": {},
   "outputs": [],
   "source": [
    "file = open(\"Projects/LMS/assets/LMS.json\",\"r\")"
   ]
  },
  {
   "cell_type": "code",
   "execution_count": 59,
   "id": "e1d51051",
   "metadata": {},
   "outputs": [
    {
     "data": {
      "text/plain": [
       "{'STUDENTS': {},\n",
       " 'BOOKS': {'CSE': {'1ST_YEAR': {'1ST_SEM': [], '2ND_SEM': []},\n",
       "   '2ND_YEAR': {'1ST_SEM': [], '2ND_SEM': []},\n",
       "   '3RD_YEAR': {'1ST_SEM': [], '2ND_SEM': []},\n",
       "   '4TH_YEAR': {'1ST_SEM': [], '2ND_SEM': []}},\n",
       "  'ECE': {'1ST_YEAR': {'1ST_SEM': [], '2ND_SEM': []},\n",
       "   '2ND_YEAR': {'1ST_SEM': [], '2ND_SEM': []},\n",
       "   '3RD_YEAR': {'1ST_SEM': [], '2ND_SEM': []},\n",
       "   '4TH_YEAR': {'1ST_SEM': [], '2ND_SEM': []}},\n",
       "  'EEE': {'1ST_YEAR': {'1ST_SEM': [], '2ND_SEM': []},\n",
       "   '2ND_YEAR': {'1ST_SEM': [], '2ND_SEM': []},\n",
       "   '3RD_YEAR': {'1ST_SEM': [], '2ND_SEM': []},\n",
       "   '4TH_YEAR': {'1ST_SEM': [], '2ND_SEM': []}},\n",
       "  'CIVIL': {'1ST_YEAR': {'1ST_SEM': [], '2ND_SEM': []},\n",
       "   '2ND_YEAR': {'1ST_SEM': [], '2ND_SEM': []},\n",
       "   '3RD_YEAR': {'1ST_SEM': [], '2ND_SEM': []},\n",
       "   '4TH_YEAR': {'1ST_SEM': [], '2ND_SEM': []}},\n",
       "  'MECH': {'1ST_YEAR': {'1ST_SEM': [], '2ND_SEM': []},\n",
       "   '2ND_YEAR': {'1ST_SEM': [], '2ND_SEM': []},\n",
       "   '3RD_YEAR': {'1ST_SEM': [], '2ND_SEM': []},\n",
       "   '4TH_YEAR': {'1ST_SEM': [], '2ND_SEM': []}}},\n",
       " 'TEACHERS': {},\n",
       " 'LIB_ADMINS': [{'USER_NAME': 'THARUN', 'PASSWORD': 'Tharun123'},\n",
       "  {'USER_NAME': 'PRAKASH', 'PASSWORD': 'Prakash123'}]}"
      ]
     },
     "execution_count": 59,
     "metadata": {},
     "output_type": "execute_result"
    }
   ],
   "source": [
    "json.load(file)"
   ]
  },
  {
   "cell_type": "code",
   "execution_count": null,
   "id": "d2d9450d",
   "metadata": {},
   "outputs": [],
   "source": []
  }
 ],
 "metadata": {
  "kernelspec": {
   "display_name": "Python 3 (ipykernel)",
   "language": "python",
   "name": "python3"
  },
  "language_info": {
   "codemirror_mode": {
    "name": "ipython",
    "version": 3
   },
   "file_extension": ".py",
   "mimetype": "text/x-python",
   "name": "python",
   "nbconvert_exporter": "python",
   "pygments_lexer": "ipython3",
   "version": "3.11.3"
  }
 },
 "nbformat": 4,
 "nbformat_minor": 5
}
