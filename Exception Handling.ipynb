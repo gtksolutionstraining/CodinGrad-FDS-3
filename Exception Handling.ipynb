{
 "cells": [
  {
   "cell_type": "markdown",
   "id": "5c4ca6dd",
   "metadata": {},
   "source": [
    "# Exception Handling\n",
    "- To make our software more robust we will use exception handling\n",
    "- Exception Handling stops the software from unexcepted halting (Crash)\n",
    "- Exception Hierachial model --\n",
    "- Exception is a base class\n",
    "- We will have lot many exceptional modules\n",
    "- Try Block --> Will have actual code where you intuition is saying that there may errors\n",
    "- Except Block--> Specific errors will be handles here \n",
    "- Else Block --> It will be development and debugging\n",
    "- Finally Block --> WIll execute even there is exception or there is no exception \n",
    "- Finally Block is used mostly for closing connections\n",
    "- Your RAM will exhaust\n",
    "- Database connections --> Should be closed otherwise will be pooling problem for other db users"
   ]
  },
  {
   "cell_type": "code",
   "execution_count": 30,
   "id": "fd34f968",
   "metadata": {},
   "outputs": [
    {
     "name": "stdout",
     "output_type": "stream",
     "text": [
      "Do something if your try block executes successfully.\n",
      "I will execute anyway\n"
     ]
    }
   ],
   "source": [
    "import sys\n",
    "number_string = \"6\"\n",
    "file_path = \"welcome1.txt\"\n",
    "try:\n",
    "    number = int(number_string)\n",
    "    file = open(file_path)\n",
    "#     psql = psql.conn(\"10.10.123.133:5432\",\"admin\",\"Tharun123\")\n",
    "#     tcp = TCP.conn(\"10.10.123.133.8765\")\n",
    "except ValueError as ve:\n",
    "    print(\"You have given non integer, please give only integer..!\")\n",
    "except FileNotFoundError as fnfe:\n",
    "    print(\"Given file not found!\")\n",
    "else:\n",
    "    print(\"Do something if your try block executes successfully.\")\n",
    "finally:\n",
    "    file.close()\n",
    "    # psql.close()\n",
    "    # tcp.close()\n",
    "    print(\"I will execute anyway\")"
   ]
  },
  {
   "cell_type": "code",
   "execution_count": null,
   "id": "d8bf087c",
   "metadata": {},
   "outputs": [],
   "source": []
  }
 ],
 "metadata": {
  "kernelspec": {
   "display_name": "Python 3 (ipykernel)",
   "language": "python",
   "name": "python3"
  },
  "language_info": {
   "codemirror_mode": {
    "name": "ipython",
    "version": 3
   },
   "file_extension": ".py",
   "mimetype": "text/x-python",
   "name": "python",
   "nbconvert_exporter": "python",
   "pygments_lexer": "ipython3",
   "version": "3.11.3"
  }
 },
 "nbformat": 4,
 "nbformat_minor": 5
}
