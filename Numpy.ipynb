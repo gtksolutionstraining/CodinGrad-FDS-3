{
 "cells": [
  {
   "cell_type": "code",
   "execution_count": 14,
   "id": "1fd9647a",
   "metadata": {},
   "outputs": [],
   "source": [
    "import numpy as np"
   ]
  },
  {
   "cell_type": "code",
   "execution_count": 15,
   "id": "7938e788",
   "metadata": {},
   "outputs": [],
   "source": [
    "A = [[1,2],[2,3]]\n",
    "B = [[2,3],[3,4]]"
   ]
  },
  {
   "cell_type": "code",
   "execution_count": 19,
   "id": "0f19878d",
   "metadata": {},
   "outputs": [
    {
     "data": {
      "text/plain": [
       "['__add__',\n",
       " '__class__',\n",
       " '__class_getitem__',\n",
       " '__contains__',\n",
       " '__delattr__',\n",
       " '__delitem__',\n",
       " '__dir__',\n",
       " '__doc__',\n",
       " '__eq__',\n",
       " '__format__',\n",
       " '__ge__',\n",
       " '__getattribute__',\n",
       " '__getitem__',\n",
       " '__getstate__',\n",
       " '__gt__',\n",
       " '__hash__',\n",
       " '__iadd__',\n",
       " '__imul__',\n",
       " '__init__',\n",
       " '__init_subclass__',\n",
       " '__iter__',\n",
       " '__le__',\n",
       " '__len__',\n",
       " '__lt__',\n",
       " '__mul__',\n",
       " '__ne__',\n",
       " '__new__',\n",
       " '__reduce__',\n",
       " '__reduce_ex__',\n",
       " '__repr__',\n",
       " '__reversed__',\n",
       " '__rmul__',\n",
       " '__setattr__',\n",
       " '__setitem__',\n",
       " '__sizeof__',\n",
       " '__str__',\n",
       " '__subclasshook__',\n",
       " 'append',\n",
       " 'clear',\n",
       " 'copy',\n",
       " 'count',\n",
       " 'extend',\n",
       " 'index',\n",
       " 'insert',\n",
       " 'pop',\n",
       " 'remove',\n",
       " 'reverse',\n",
       " 'sort']"
      ]
     },
     "execution_count": 19,
     "metadata": {},
     "output_type": "execute_result"
    }
   ],
   "source": [
    "dir(list)"
   ]
  },
  {
   "cell_type": "code",
   "execution_count": 16,
   "id": "321ced44",
   "metadata": {},
   "outputs": [
    {
     "data": {
      "text/plain": [
       "[[1, 2], [2, 3]]"
      ]
     },
     "execution_count": 16,
     "metadata": {},
     "output_type": "execute_result"
    }
   ],
   "source": []
  },
  {
   "cell_type": "code",
   "execution_count": 17,
   "id": "c7462058",
   "metadata": {},
   "outputs": [
    {
     "data": {
      "text/plain": [
       "[[2, 3], [3, 4]]"
      ]
     },
     "execution_count": 17,
     "metadata": {},
     "output_type": "execute_result"
    }
   ],
   "source": [
    "B"
   ]
  },
  {
   "cell_type": "code",
   "execution_count": 6,
   "id": "a0f0d7a5",
   "metadata": {},
   "outputs": [
    {
     "data": {
      "text/plain": [
       "6"
      ]
     },
     "execution_count": 6,
     "metadata": {},
     "output_type": "execute_result"
    }
   ],
   "source": [
    "2*3"
   ]
  },
  {
   "cell_type": "code",
   "execution_count": 7,
   "id": "956255d3",
   "metadata": {},
   "outputs": [
    {
     "data": {
      "text/plain": [
       "6"
      ]
     },
     "execution_count": 7,
     "metadata": {},
     "output_type": "execute_result"
    }
   ],
   "source": [
    "2*3"
   ]
  },
  {
   "cell_type": "code",
   "execution_count": 8,
   "id": "57bd30f7",
   "metadata": {},
   "outputs": [
    {
     "data": {
      "text/plain": [
       "2"
      ]
     },
     "execution_count": 8,
     "metadata": {},
     "output_type": "execute_result"
    }
   ],
   "source": [
    "1+1"
   ]
  },
  {
   "cell_type": "code",
   "execution_count": 9,
   "id": "0ba0a5d9",
   "metadata": {},
   "outputs": [
    {
     "data": {
      "text/plain": [
       "6"
      ]
     },
     "execution_count": 9,
     "metadata": {},
     "output_type": "execute_result"
    }
   ],
   "source": [
    "2+2+2"
   ]
  },
  {
   "cell_type": "code",
   "execution_count": 10,
   "id": "25491c2c",
   "metadata": {},
   "outputs": [],
   "source": [
    "import math"
   ]
  },
  {
   "cell_type": "code",
   "execution_count": 11,
   "id": "f3cb9029",
   "metadata": {},
   "outputs": [
    {
     "data": {
      "text/plain": [
       "0.6931471805599453"
      ]
     },
     "execution_count": 11,
     "metadata": {},
     "output_type": "execute_result"
    }
   ],
   "source": [
    "math.log(2)"
   ]
  },
  {
   "cell_type": "code",
   "execution_count": 25,
   "id": "d4f974f0",
   "metadata": {},
   "outputs": [],
   "source": [
    "X = np.random.randn(3,4)"
   ]
  },
  {
   "cell_type": "code",
   "execution_count": 26,
   "id": "3711bbff",
   "metadata": {},
   "outputs": [
    {
     "data": {
      "text/plain": [
       "array([[ 0.94451441, -0.50367719,  1.54142496, -0.48541449],\n",
       "       [-1.11107467, -1.35122909, -0.03528847, -0.46639419],\n",
       "       [ 0.8763313 , -1.10785483, -1.1332181 ,  1.010197  ]])"
      ]
     },
     "execution_count": 26,
     "metadata": {},
     "output_type": "execute_result"
    }
   ],
   "source": [
    "X"
   ]
  },
  {
   "cell_type": "code",
   "execution_count": 27,
   "id": "91cc7183",
   "metadata": {},
   "outputs": [
    {
     "data": {
      "text/plain": [
       "-0.03528846544346109"
      ]
     },
     "execution_count": 27,
     "metadata": {},
     "output_type": "execute_result"
    }
   ],
   "source": [
    "X[1][2]"
   ]
  },
  {
   "cell_type": "code",
   "execution_count": 28,
   "id": "afa7d056",
   "metadata": {},
   "outputs": [
    {
     "data": {
      "text/plain": [
       "-0.48541448711115676"
      ]
     },
     "execution_count": 28,
     "metadata": {},
     "output_type": "execute_result"
    }
   ],
   "source": [
    "X[0][3]"
   ]
  },
  {
   "cell_type": "code",
   "execution_count": 29,
   "id": "397d4d54",
   "metadata": {},
   "outputs": [
    {
     "data": {
      "text/plain": [
       "-0.03528846544346109"
      ]
     },
     "execution_count": 29,
     "metadata": {},
     "output_type": "execute_result"
    }
   ],
   "source": [
    "X[1,2]"
   ]
  },
  {
   "cell_type": "code",
   "execution_count": 30,
   "id": "39690595",
   "metadata": {},
   "outputs": [
    {
     "data": {
      "text/plain": [
       "-0.48541448711115676"
      ]
     },
     "execution_count": 30,
     "metadata": {},
     "output_type": "execute_result"
    }
   ],
   "source": [
    "X[0,3]"
   ]
  },
  {
   "cell_type": "code",
   "execution_count": 35,
   "id": "a1bb35f6",
   "metadata": {},
   "outputs": [
    {
     "data": {
      "text/plain": [
       "array([[ 0.94451441, -0.50367719],\n",
       "       [-1.11107467, -1.35122909]])"
      ]
     },
     "execution_count": 35,
     "metadata": {},
     "output_type": "execute_result"
    }
   ],
   "source": [
    "X[0:2,0:2]"
   ]
  },
  {
   "cell_type": "code",
   "execution_count": 37,
   "id": "7d0c8e71",
   "metadata": {},
   "outputs": [
    {
     "data": {
      "text/plain": [
       "array([[-1.35122909, -0.03528847],\n",
       "       [-1.10785483, -1.1332181 ]])"
      ]
     },
     "execution_count": 37,
     "metadata": {},
     "output_type": "execute_result"
    }
   ],
   "source": [
    "X[1:3,1:3]"
   ]
  },
  {
   "cell_type": "code",
   "execution_count": 38,
   "id": "373cdff5",
   "metadata": {},
   "outputs": [
    {
     "data": {
      "text/plain": [
       "array([[ 0.94451441, -0.50367719],\n",
       "       [-1.11107467, -1.35122909],\n",
       "       [ 0.8763313 , -1.10785483]])"
      ]
     },
     "execution_count": 38,
     "metadata": {},
     "output_type": "execute_result"
    }
   ],
   "source": [
    "X[0:3,0:2]"
   ]
  },
  {
   "cell_type": "code",
   "execution_count": 33,
   "id": "aaddb177",
   "metadata": {},
   "outputs": [
    {
     "data": {
      "text/plain": [
       "'har'"
      ]
     },
     "execution_count": 33,
     "metadata": {},
     "output_type": "execute_result"
    }
   ],
   "source": [
    "name = \"Tharun\"\n",
    "name[1:4]"
   ]
  },
  {
   "cell_type": "code",
   "execution_count": 31,
   "id": "b2b68e08",
   "metadata": {},
   "outputs": [],
   "source": [
    "lis = [1,2,3,4]"
   ]
  },
  {
   "cell_type": "code",
   "execution_count": 36,
   "id": "498bafa5",
   "metadata": {},
   "outputs": [
    {
     "data": {
      "text/plain": [
       "[2, 3]"
      ]
     },
     "execution_count": 36,
     "metadata": {},
     "output_type": "execute_result"
    }
   ],
   "source": [
    "lis[1:3]"
   ]
  },
  {
   "cell_type": "code",
   "execution_count": 22,
   "id": "6f42c124",
   "metadata": {},
   "outputs": [
    {
     "data": {
      "text/plain": [
       "array([[1, 2],\n",
       "       [2, 3]])"
      ]
     },
     "execution_count": 22,
     "metadata": {},
     "output_type": "execute_result"
    }
   ],
   "source": [
    "A = np.array(A)\n",
    "A"
   ]
  },
  {
   "cell_type": "code",
   "execution_count": 23,
   "id": "411c4026",
   "metadata": {},
   "outputs": [
    {
     "data": {
      "text/plain": [
       "array([[2, 3],\n",
       "       [3, 4]])"
      ]
     },
     "execution_count": 23,
     "metadata": {},
     "output_type": "execute_result"
    }
   ],
   "source": [
    "B = np.array(B)\n",
    "B"
   ]
  },
  {
   "cell_type": "code",
   "execution_count": 6,
   "id": "2da99930",
   "metadata": {},
   "outputs": [],
   "source": [
    "C = np.dot(A,B)"
   ]
  },
  {
   "cell_type": "code",
   "execution_count": 7,
   "id": "c05fd67f",
   "metadata": {},
   "outputs": [
    {
     "data": {
      "text/plain": [
       "array([[ 8, 11],\n",
       "       [13, 18]])"
      ]
     },
     "execution_count": 7,
     "metadata": {},
     "output_type": "execute_result"
    }
   ],
   "source": [
    "C"
   ]
  },
  {
   "cell_type": "code",
   "execution_count": 18,
   "id": "32c06cdc",
   "metadata": {},
   "outputs": [],
   "source": [
    "A = [[1,2],[2,3]]\n",
    "B = [[2,3],[3,4]]"
   ]
  },
  {
   "cell_type": "code",
   "execution_count": 19,
   "id": "0478cca5",
   "metadata": {},
   "outputs": [
    {
     "data": {
      "text/plain": [
       "[[1, 2], [2, 3]]"
      ]
     },
     "execution_count": 19,
     "metadata": {},
     "output_type": "execute_result"
    }
   ],
   "source": [
    "A"
   ]
  },
  {
   "cell_type": "code",
   "execution_count": 20,
   "id": "f773eb1e",
   "metadata": {},
   "outputs": [
    {
     "data": {
      "text/plain": [
       "[[2, 3], [3, 4]]"
      ]
     },
     "execution_count": 20,
     "metadata": {},
     "output_type": "execute_result"
    }
   ],
   "source": [
    "B"
   ]
  },
  {
   "cell_type": "code",
   "execution_count": 21,
   "id": "3172457b",
   "metadata": {},
   "outputs": [
    {
     "data": {
      "text/plain": [
       "[1, 'A', 'B', 2]"
      ]
     },
     "execution_count": 21,
     "metadata": {},
     "output_type": "execute_result"
    }
   ],
   "source": [
    "[1,\"A\",\"B\",2]"
   ]
  },
  {
   "cell_type": "code",
   "execution_count": 22,
   "id": "c9145248",
   "metadata": {},
   "outputs": [
    {
     "data": {
      "text/plain": [
       "[1, 2, 3, 4]"
      ]
     },
     "execution_count": 22,
     "metadata": {},
     "output_type": "execute_result"
    }
   ],
   "source": [
    "[1,2,3,4]"
   ]
  },
  {
   "cell_type": "code",
   "execution_count": 23,
   "id": "8c8b6224",
   "metadata": {},
   "outputs": [
    {
     "data": {
      "text/plain": [
       "6"
      ]
     },
     "execution_count": 23,
     "metadata": {},
     "output_type": "execute_result"
    }
   ],
   "source": [
    "int('6')"
   ]
  },
  {
   "cell_type": "code",
   "execution_count": null,
   "id": "6494e82c",
   "metadata": {},
   "outputs": [],
   "source": [
    "# int, string, float, list --> ndarray"
   ]
  },
  {
   "cell_type": "code",
   "execution_count": 8,
   "id": "8a7b6c7e",
   "metadata": {},
   "outputs": [],
   "source": [
    "A = np.array(A) # Explicit Type Casting"
   ]
  },
  {
   "cell_type": "code",
   "execution_count": 25,
   "id": "fb9ecc7a",
   "metadata": {},
   "outputs": [
    {
     "data": {
      "text/plain": [
       "array([[1, 2],\n",
       "       [2, 3]])"
      ]
     },
     "execution_count": 25,
     "metadata": {},
     "output_type": "execute_result"
    }
   ],
   "source": [
    "A"
   ]
  },
  {
   "cell_type": "code",
   "execution_count": 9,
   "id": "e9505c8f",
   "metadata": {},
   "outputs": [],
   "source": [
    "B = np.array(B) # np.array is constuctor --> list --> ndarray B --> object"
   ]
  },
  {
   "cell_type": "code",
   "execution_count": 12,
   "id": "fca1ee1d",
   "metadata": {},
   "outputs": [],
   "source": [
    "(p,q) = B.shape"
   ]
  },
  {
   "cell_type": "code",
   "execution_count": 42,
   "id": "77551359",
   "metadata": {},
   "outputs": [
    {
     "data": {
      "text/plain": [
       "dtype('int64')"
      ]
     },
     "execution_count": 42,
     "metadata": {},
     "output_type": "execute_result"
    }
   ],
   "source": [
    "B.dtype"
   ]
  },
  {
   "cell_type": "code",
   "execution_count": 10,
   "id": "ceb76476",
   "metadata": {},
   "outputs": [],
   "source": [
    "(m,n) = A.shape"
   ]
  },
  {
   "cell_type": "code",
   "execution_count": 13,
   "id": "6a156c5f",
   "metadata": {},
   "outputs": [
    {
     "name": "stdout",
     "output_type": "stream",
     "text": [
      "Matrix multiplcation of A and B is possible\n"
     ]
    }
   ],
   "source": [
    "if n==p:\n",
    "    print(f\"Matrix multiplcation of A and B is possible\")"
   ]
  },
  {
   "cell_type": "code",
   "execution_count": 44,
   "id": "9c185650",
   "metadata": {},
   "outputs": [
    {
     "data": {
      "text/plain": [
       "array([[0, 0],\n",
       "       [0, 0]])"
      ]
     },
     "execution_count": 44,
     "metadata": {},
     "output_type": "execute_result"
    }
   ],
   "source": [
    "C = np.zeros((m,q),dtype=np.int64) # in float64\n",
    "C"
   ]
  },
  {
   "cell_type": "code",
   "execution_count": 53,
   "id": "7f0c4e3f",
   "metadata": {},
   "outputs": [
    {
     "data": {
      "text/plain": [
       "array([[ 8, 11],\n",
       "       [13, 18]])"
      ]
     },
     "execution_count": 53,
     "metadata": {},
     "output_type": "execute_result"
    }
   ],
   "source": [
    "C = np.dot(A,B)\n",
    "C\n",
    "# 100-200 cpu clocks"
   ]
  },
  {
   "cell_type": "code",
   "execution_count": null,
   "id": "bbfb3770",
   "metadata": {},
   "outputs": [],
   "source": [
    "torch \n",
    "2 gpu clocks"
   ]
  },
  {
   "cell_type": "code",
   "execution_count": 56,
   "id": "666a2f03",
   "metadata": {},
   "outputs": [
    {
     "data": {
      "text/plain": [
       "'\\nSequentially\\n1. row -0\\n2. column -0\\n3. one operaton\\n4. row =0\\n5. column = 1\\n6. second operation\\n7. row = 1\\n8. column = 0\\n9. thrid operation\\n10. row = 1\\n11. column = 1\\n12. fourth operation\\n'"
      ]
     },
     "execution_count": 56,
     "metadata": {},
     "output_type": "execute_result"
    }
   ],
   "source": [
    "for row in range(m):\n",
    "    for column in range(q):\n",
    "        C[row,column] = np.multiply(A[row],B[column]).sum()\n",
    "C\n",
    "\n",
    "\"\"\"\n",
    "1*2+1*2\n",
    "\n",
    "Sequentially\n",
    "1. row -0\n",
    "2. column -0\n",
    "3. one operaton\n",
    "4. row =0\n",
    "5. column = 1\n",
    "6. second operation\n",
    "7. row = 1\n",
    "8. column = 0\n",
    "9. thrid operation\n",
    "10. row = 1\n",
    "11. column = 1\n",
    "12. fourth operation\n",
    "\n",
    "---> m*q number of operations sequentially\n",
    "\"\"\""
   ]
  },
  {
   "cell_type": "code",
   "execution_count": 1,
   "id": "24ec8667",
   "metadata": {},
   "outputs": [
    {
     "ename": "NameError",
     "evalue": "name 'm' is not defined",
     "output_type": "error",
     "traceback": [
      "\u001b[0;31m---------------------------------------------------------------------------\u001b[0m",
      "\u001b[0;31mNameError\u001b[0m                                 Traceback (most recent call last)",
      "Cell \u001b[0;32mIn[1], line 1\u001b[0m\n\u001b[0;32m----> 1\u001b[0m \u001b[38;5;28;01mfor\u001b[39;00m row \u001b[38;5;129;01min\u001b[39;00m \u001b[38;5;28mrange\u001b[39m(\u001b[43mm\u001b[49m):\n\u001b[1;32m      2\u001b[0m     \u001b[38;5;28;01mfor\u001b[39;00m column \u001b[38;5;129;01min\u001b[39;00m \u001b[38;5;28mrange\u001b[39m(q):\n\u001b[1;32m      3\u001b[0m         C[row,column] \u001b[38;5;241m=\u001b[39m \u001b[38;5;241m0\u001b[39m\n",
      "\u001b[0;31mNameError\u001b[0m: name 'm' is not defined"
     ]
    }
   ],
   "source": [
    "for row in range(m):\n",
    "    for column in range(q):\n",
    "        C[row,column] = 0\n",
    "        for k in range(n):\n",
    "            C[row,column] = C[row,column]+(A[row,k]*B[k,column])\n",
    "C\n",
    "\"\"\"\n",
    "8 sequenctial operations\n",
    "Total number of iterations -> m * q * n \n",
    "Time Complexity -===> O(n~3) in general\n",
    "Time Complexity -===> O(m*q*n) for my matrix multiplcation of A (m,n) and B (n,q). In General if we have m = n = q Trivial condition ==> O(n*n*n) ==> O(n~3)\n",
    "\"\"\""
   ]
  },
  {
   "cell_type": "code",
   "execution_count": null,
   "id": "a94b580b",
   "metadata": {},
   "outputs": [],
   "source": [
    "A(1024,512) * B(512,1024)\n",
    "\n",
    "1024*512*1024 = \n",
    "\n",
    "Number of multiplcations => 1024*512*1024\n",
    "Number of additions => 1024*512*1024\n",
    "\n",
    "Total number of cpu clocks =  2 * 1024 * 512 * 1024"
   ]
  }
 ],
 "metadata": {
  "kernelspec": {
   "display_name": "Python 3 (ipykernel)",
   "language": "python",
   "name": "python3"
  },
  "language_info": {
   "codemirror_mode": {
    "name": "ipython",
    "version": 3
   },
   "file_extension": ".py",
   "mimetype": "text/x-python",
   "name": "python",
   "nbconvert_exporter": "python",
   "pygments_lexer": "ipython3",
   "version": "3.11.3"
  }
 },
 "nbformat": 4,
 "nbformat_minor": 5
}
