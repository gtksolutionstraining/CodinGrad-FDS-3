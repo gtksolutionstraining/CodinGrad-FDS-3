{
 "cells": [
  {
   "cell_type": "code",
   "execution_count": 38,
   "id": "21322fbb",
   "metadata": {},
   "outputs": [],
   "source": [
    "class Parrot:\n",
    "    #Constructor\n",
    "    def __init__(self,eyes_description,nose_description,shape_description):\n",
    "        self.eyes = eyes_description\n",
    "        self.nose = nose_description\n",
    "        self.shape = shape_description\n",
    "    def action1(self):\n",
    "        self.count = self.count+1\n",
    "    def action2(self):\n",
    "        pass\n",
    "    def action3(self):\n",
    "        pass\n",
    "    def eating(self):\n",
    "        self.shape = \"Shape is now fat\""
   ]
  },
  {
   "cell_type": "code",
   "execution_count": 39,
   "id": "7e934dd8",
   "metadata": {},
   "outputs": [],
   "source": [
    "class Parrot:\n",
    "    def action1(self):\n",
    "        self.count = self.count+1\n",
    "    def action2(self):\n",
    "        pass\n",
    "    def action3(self):\n",
    "        pass\n",
    "    def eating(self):\n",
    "        self.shape = \"Shape is now fat\""
   ]
  },
  {
   "cell_type": "code",
   "execution_count": 54,
   "id": "de28b746",
   "metadata": {},
   "outputs": [],
   "source": [
    "class Parrot:\n",
    "    #Constructor with no Arguments\n",
    "    def __init__(self):\n",
    "        self.initial_setup = \"Initial Setup Done.\"\n",
    "    #Constructor with Arguments\n",
    "    def __init__(self,eyes_description,nose_description,shape_description):\n",
    "        self.eyes = eyes_description\n",
    "        self.nose = nose_description\n",
    "        self.shape = shape_description\n",
    "    #Constructore with Arguments\n",
    "    def __init__(self,shape):\n",
    "        self.shape = shape\n",
    "    def action1(self):\n",
    "        self.count = self.count+1\n",
    "    def action1(self,a,b):\n",
    "        pass\n",
    "    def action2(self):\n",
    "        pass\n",
    "    def action3(self):\n",
    "        pass\n",
    "    def eating(self):\n",
    "        self.shape = \"Shape is now fat\""
   ]
  },
  {
   "cell_type": "code",
   "execution_count": 58,
   "id": "e4495a75",
   "metadata": {},
   "outputs": [],
   "source": [
    "class Parrot:\n",
    "    #Constructor\n",
    "    def __init__(self,eyes_description,nose_description,shape_description):\n",
    "        #public properties\n",
    "        self.eyes = eyes_description\n",
    "        self.nose = nose_description\n",
    "        self.shape = shape_description\n",
    "        #Private Properties\n",
    "        #Protected Properties\n",
    "        \n",
    "    def action1(self):\n",
    "        self.count = self.count+1\n",
    "    def action2(self):\n",
    "        pass\n",
    "    def action3(self):\n",
    "        pass\n",
    "    def eating(self):\n",
    "        self.shape = \"Shape is now fat\""
   ]
  },
  {
   "cell_type": "code",
   "execution_count": 59,
   "id": "8350e8be",
   "metadata": {},
   "outputs": [
    {
     "ename": "TypeError",
     "evalue": "Parrot.__init__() missing 3 required positional arguments: 'eyes_description', 'nose_description', and 'shape_description'",
     "output_type": "error",
     "traceback": [
      "\u001b[0;31m---------------------------------------------------------------------------\u001b[0m",
      "\u001b[0;31mTypeError\u001b[0m                                 Traceback (most recent call last)",
      "Cell \u001b[0;32mIn[59], line 1\u001b[0m\n\u001b[0;32m----> 1\u001b[0m parrot1 \u001b[38;5;241m=\u001b[39m \u001b[43mParrot\u001b[49m\u001b[43m(\u001b[49m\u001b[43m)\u001b[49m\n\u001b[1;32m      2\u001b[0m \u001b[38;5;66;03m# 1. it will call constructor\u001b[39;00m\n",
      "\u001b[0;31mTypeError\u001b[0m: Parrot.__init__() missing 3 required positional arguments: 'eyes_description', 'nose_description', and 'shape_description'"
     ]
    }
   ],
   "source": [
    "parrot1 = Parrot()\n",
    "# 1. it will call constructor"
   ]
  },
  {
   "cell_type": "code",
   "execution_count": 60,
   "id": "ea24bc6d",
   "metadata": {},
   "outputs": [
    {
     "ename": "AttributeError",
     "evalue": "'Parrot' object has no attribute 'eyes'",
     "output_type": "error",
     "traceback": [
      "\u001b[0;31m---------------------------------------------------------------------------\u001b[0m",
      "\u001b[0;31mAttributeError\u001b[0m                            Traceback (most recent call last)",
      "Cell \u001b[0;32mIn[60], line 1\u001b[0m\n\u001b[0;32m----> 1\u001b[0m \u001b[43mparrot1\u001b[49m\u001b[38;5;241;43m.\u001b[39;49m\u001b[43meyes\u001b[49m\n",
      "\u001b[0;31mAttributeError\u001b[0m: 'Parrot' object has no attribute 'eyes'"
     ]
    }
   ],
   "source": [
    "parrot1.eyes"
   ]
  },
  {
   "cell_type": "code",
   "execution_count": null,
   "id": "300fb462",
   "metadata": {},
   "outputs": [],
   "source": []
  }
 ],
 "metadata": {
  "kernelspec": {
   "display_name": "Python 3 (ipykernel)",
   "language": "python",
   "name": "python3"
  },
  "language_info": {
   "codemirror_mode": {
    "name": "ipython",
    "version": 3
   },
   "file_extension": ".py",
   "mimetype": "text/x-python",
   "name": "python",
   "nbconvert_exporter": "python",
   "pygments_lexer": "ipython3",
   "version": "3.11.3"
  }
 },
 "nbformat": 4,
 "nbformat_minor": 5
}
