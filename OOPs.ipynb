{
 "cells": [
  {
   "cell_type": "code",
   "execution_count": 17,
   "id": "21322fbb",
   "metadata": {},
   "outputs": [],
   "source": [
    "class Parrot:\n",
    "    #Constructor\n",
    "    def __init__(self,eyes_description,nose_description,shape_description): \n",
    "        self.eyes = eyes_description\n",
    "        self.nose = nose_description\n",
    "        self.shape = shape_description\n",
    "    def action1(self):\n",
    "        pass\n",
    "    def action2(self):\n",
    "        pass\n",
    "    def action3(self):\n",
    "        pass\n",
    "    def eating(self):\n",
    "        self.shape = \"Shape is now fat\""
   ]
  },
  {
   "cell_type": "code",
   "execution_count": 18,
   "id": "d2051a89",
   "metadata": {},
   "outputs": [],
   "source": [
    "parrot1 = Parrot(eyes_description=\"Eyes should be small and attractive\",\n",
    "                nose_description=\"Nose should be cute\",\n",
    "                shape_description=\"Shape should be even\")"
   ]
  },
  {
   "cell_type": "code",
   "execution_count": 19,
   "id": "2b925768",
   "metadata": {},
   "outputs": [
    {
     "data": {
      "text/plain": [
       "('Eyes should be small and attractive',\n",
       " 'Nose should be cute',\n",
       " 'Shape should be even')"
      ]
     },
     "execution_count": 19,
     "metadata": {},
     "output_type": "execute_result"
    }
   ],
   "source": [
    "parrot1.eyes,parrot1.nose,parrot1.shape"
   ]
  },
  {
   "cell_type": "code",
   "execution_count": 20,
   "id": "cd9592bd",
   "metadata": {},
   "outputs": [],
   "source": [
    "parrot1.eating()"
   ]
  },
  {
   "cell_type": "code",
   "execution_count": 21,
   "id": "0f4b3ee4",
   "metadata": {},
   "outputs": [
    {
     "data": {
      "text/plain": [
       "('Eyes should be small and attractive',\n",
       " 'Nose should be cute',\n",
       " 'Shape is now fat')"
      ]
     },
     "execution_count": 21,
     "metadata": {},
     "output_type": "execute_result"
    }
   ],
   "source": [
    "parrot1.eyes,parrot1.nose,parrot1.shape"
   ]
  },
  {
   "cell_type": "code",
   "execution_count": 11,
   "id": "c6a98d8d",
   "metadata": {},
   "outputs": [],
   "source": [
    "parrot2 = Parrot(eyes_description=\"Eyes should be medium and attractive\",\n",
    "                nose_description=\"Nose should be not cute\",\n",
    "                shape_description=\"Shape should be even\")"
   ]
  },
  {
   "cell_type": "code",
   "execution_count": null,
   "id": "8350e8be",
   "metadata": {},
   "outputs": [],
   "source": []
  }
 ],
 "metadata": {
  "kernelspec": {
   "display_name": "Python 3 (ipykernel)",
   "language": "python",
   "name": "python3"
  },
  "language_info": {
   "codemirror_mode": {
    "name": "ipython",
    "version": 3
   },
   "file_extension": ".py",
   "mimetype": "text/x-python",
   "name": "python",
   "nbconvert_exporter": "python",
   "pygments_lexer": "ipython3",
   "version": "3.11.3"
  }
 },
 "nbformat": 4,
 "nbformat_minor": 5
}
