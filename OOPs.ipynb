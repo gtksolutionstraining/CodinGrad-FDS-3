{
 "cells": [
  {
   "cell_type": "code",
   "execution_count": 38,
   "id": "21322fbb",
   "metadata": {},
   "outputs": [],
   "source": [
    "class Parrot:\n",
    "    #Constructor\n",
    "    def __init__(self,eyes_description,nose_description,shape_description):\n",
    "        self.eyes = eyes_description\n",
    "        self.nose = nose_description\n",
    "        self.shape = shape_description\n",
    "    def action1(self):\n",
    "        self.count = self.count+1\n",
    "    def action2(self):\n",
    "        pass\n",
    "    def action3(self):\n",
    "        pass\n",
    "    def eating(self):\n",
    "        self.shape = \"Shape is now fat\""
   ]
  },
  {
   "cell_type": "code",
   "execution_count": 39,
   "id": "7e934dd8",
   "metadata": {},
   "outputs": [],
   "source": [
    "class Parrot:\n",
    "    def action1(self):\n",
    "        self.count = self.count+1\n",
    "    def action2(self):\n",
    "        pass\n",
    "    def action3(self):\n",
    "        pass\n",
    "    def eating(self):\n",
    "        self.shape = \"Shape is now fat\""
   ]
  },
  {
   "cell_type": "code",
   "execution_count": 54,
   "id": "de28b746",
   "metadata": {},
   "outputs": [],
   "source": [
    "class Parrot:\n",
    "    #Constructor with no Arguments\n",
    "    def __init__(self):\n",
    "        self.initial_setup = \"Initial Setup Done.\"\n",
    "    #Constructor with Arguments\n",
    "    def __init__(self,eyes_description,nose_description,shape_description):\n",
    "        self.eyes = eyes_description\n",
    "        self.nose = nose_description\n",
    "        self.shape = shape_description\n",
    "    #Constructore with Arguments\n",
    "    def __init__(self,shape):\n",
    "        self.shape = shape\n",
    "    def action1(self):\n",
    "        self.count = self.count+1\n",
    "    def action1(self,a,b):\n",
    "        pass\n",
    "    def action2(self):\n",
    "        pass\n",
    "    def action3(self):\n",
    "        pass\n",
    "    def eating(self):\n",
    "        self.shape = \"Shape is now fat\""
   ]
  },
  {
   "cell_type": "code",
   "execution_count": 36,
   "id": "e4495a75",
   "metadata": {},
   "outputs": [],
   "source": [
    "class Parrot:\n",
    "    #Constructor\n",
    "    count = 0\n",
    "    temp = 0\n",
    "    def __init__(self,eyes_description,nose_description,shape_description):\n",
    "        #public properties\n",
    "        self.eyes = eyes_description\n",
    "        self.nose = nose_description\n",
    "        self.shape = shape_description\n",
    "        self.__heart = \"HEART\"\n",
    "        self._repr = \"REPR\"\n",
    "        #Private Properties\n",
    "        #Protected Properties\n",
    "        \n",
    "    def flying(self):\n",
    "        self.count = \"Testing\"\n",
    "    def __heart_pumping(self):\n",
    "        print(\"Heart Pumping\")\n",
    "    def _reproduction(self):\n",
    "        pass\n",
    "    def eating(self):\n",
    "        self.shape = \"Shape is now fat\"\n",
    "    def get_heart(self):\n",
    "        return self.__heart\n",
    "    def set_heart(self,heart):\n",
    "        self.__heart = heart"
   ]
  },
  {
   "cell_type": "code",
   "execution_count": 31,
   "id": "8350e8be",
   "metadata": {},
   "outputs": [],
   "source": [
    "parrot1 = Parrot(\"A\",\"B\",\"C\")\n",
    "parrot2 = Parrot(\"D\",\"E\",\"F\")"
   ]
  },
  {
   "cell_type": "code",
   "execution_count": 26,
   "id": "a5ca355c",
   "metadata": {},
   "outputs": [
    {
     "ename": "AttributeError",
     "evalue": "'Parrot' object has no attribute '_repr'",
     "output_type": "error",
     "traceback": [
      "\u001b[0;31m---------------------------------------------------------------------------\u001b[0m",
      "\u001b[0;31mAttributeError\u001b[0m                            Traceback (most recent call last)",
      "Cell \u001b[0;32mIn[26], line 2\u001b[0m\n\u001b[1;32m      1\u001b[0m \u001b[38;5;66;03m#You can only access public properties and you can only see public actions\u001b[39;00m\n\u001b[0;32m----> 2\u001b[0m \u001b[43mparrot1\u001b[49m\u001b[38;5;241;43m.\u001b[39;49m\u001b[43m_repr\u001b[49m\n",
      "\u001b[0;31mAttributeError\u001b[0m: 'Parrot' object has no attribute '_repr'"
     ]
    }
   ],
   "source": [
    "#You can only access public properties and you can only see public actions\n",
    "parrot1._repr"
   ]
  },
  {
   "cell_type": "code",
   "execution_count": 33,
   "id": "2272a00f",
   "metadata": {},
   "outputs": [],
   "source": [
    "parrot1_heart = parrot1.get_heart()"
   ]
  },
  {
   "cell_type": "code",
   "execution_count": 35,
   "id": "6d0f6f4b",
   "metadata": {},
   "outputs": [],
   "source": [
    "parrot1_healed_heart = \"HEALED HEART\""
   ]
  },
  {
   "cell_type": "code",
   "execution_count": 37,
   "id": "fd5e3cde",
   "metadata": {},
   "outputs": [],
   "source": [
    "parrot1.set_heart(parrot1_healed_heart)"
   ]
  },
  {
   "cell_type": "code",
   "execution_count": 17,
   "id": "9b77ee8f",
   "metadata": {},
   "outputs": [
    {
     "data": {
      "text/plain": [
       "('A', 'B', 'C')"
      ]
     },
     "execution_count": 17,
     "metadata": {},
     "output_type": "execute_result"
    }
   ],
   "source": [
    "parrot1.eyes,parrot1.nose,parrot1.shape"
   ]
  },
  {
   "cell_type": "code",
   "execution_count": 18,
   "id": "abc454cb",
   "metadata": {},
   "outputs": [
    {
     "data": {
      "text/plain": [
       "0"
      ]
     },
     "execution_count": 18,
     "metadata": {},
     "output_type": "execute_result"
    }
   ],
   "source": [
    "Parrot.count"
   ]
  },
  {
   "cell_type": "code",
   "execution_count": 19,
   "id": "bf40f3d0",
   "metadata": {},
   "outputs": [
    {
     "data": {
      "text/plain": [
       "0"
      ]
     },
     "execution_count": 19,
     "metadata": {},
     "output_type": "execute_result"
    }
   ],
   "source": [
    "parrot1.count"
   ]
  },
  {
   "cell_type": "code",
   "execution_count": 13,
   "id": "b673b7b5",
   "metadata": {},
   "outputs": [],
   "source": [
    "parrot1.action1()"
   ]
  },
  {
   "cell_type": "code",
   "execution_count": 14,
   "id": "424abf81",
   "metadata": {},
   "outputs": [
    {
     "data": {
      "text/plain": [
       "'Testing'"
      ]
     },
     "execution_count": 14,
     "metadata": {},
     "output_type": "execute_result"
    }
   ],
   "source": [
    "parrot1.count"
   ]
  },
  {
   "cell_type": "code",
   "execution_count": null,
   "id": "e9a67013",
   "metadata": {},
   "outputs": [],
   "source": []
  },
  {
   "cell_type": "code",
   "execution_count": null,
   "id": "8d9a3d62",
   "metadata": {},
   "outputs": [],
   "source": []
  },
  {
   "cell_type": "code",
   "execution_count": 60,
   "id": "ea24bc6d",
   "metadata": {},
   "outputs": [
    {
     "ename": "AttributeError",
     "evalue": "'Parrot' object has no attribute 'eyes'",
     "output_type": "error",
     "traceback": [
      "\u001b[0;31m---------------------------------------------------------------------------\u001b[0m",
      "\u001b[0;31mAttributeError\u001b[0m                            Traceback (most recent call last)",
      "Cell \u001b[0;32mIn[60], line 1\u001b[0m\n\u001b[0;32m----> 1\u001b[0m \u001b[43mparrot1\u001b[49m\u001b[38;5;241;43m.\u001b[39;49m\u001b[43meyes\u001b[49m\n",
      "\u001b[0;31mAttributeError\u001b[0m: 'Parrot' object has no attribute 'eyes'"
     ]
    }
   ],
   "source": [
    "parrot1.eyes"
   ]
  },
  {
   "cell_type": "code",
   "execution_count": null,
   "id": "300fb462",
   "metadata": {},
   "outputs": [],
   "source": []
  }
 ],
 "metadata": {
  "kernelspec": {
   "display_name": "Python 3 (ipykernel)",
   "language": "python",
   "name": "python3"
  },
  "language_info": {
   "codemirror_mode": {
    "name": "ipython",
    "version": 3
   },
   "file_extension": ".py",
   "mimetype": "text/x-python",
   "name": "python",
   "nbconvert_exporter": "python",
   "pygments_lexer": "ipython3",
   "version": "3.11.3"
  }
 },
 "nbformat": 4,
 "nbformat_minor": 5
}
