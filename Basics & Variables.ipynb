{
 "cells": [
  {
   "cell_type": "markdown",
   "id": "e67e94a6",
   "metadata": {},
   "source": [
    "# Variables\n",
    "- Variable: A name that has been assigned by a valid value\n",
    "- Impicit Type Casting\n",
    "- Explicit Type Casting"
   ]
  },
  {
   "cell_type": "code",
   "execution_count": 1,
   "id": "2fd346eb",
   "metadata": {},
   "outputs": [],
   "source": [
    "a = 5.6 # Variable"
   ]
  },
  {
   "cell_type": "code",
   "execution_count": 2,
   "id": "b2b9a1e9",
   "metadata": {},
   "outputs": [],
   "source": [
    "b = \"6\" # Variable"
   ]
  },
  {
   "cell_type": "code",
   "execution_count": 3,
   "id": "dc4b48c3",
   "metadata": {},
   "outputs": [
    {
     "ename": "SyntaxError",
     "evalue": "invalid decimal literal (1056586988.py, line 1)",
     "output_type": "error",
     "traceback": [
      "\u001b[0;36m  Cell \u001b[0;32mIn[3], line 1\u001b[0;36m\u001b[0m\n\u001b[0;31m    c = 7yt #Not a variable\u001b[0m\n\u001b[0m        ^\u001b[0m\n\u001b[0;31mSyntaxError\u001b[0m\u001b[0;31m:\u001b[0m invalid decimal literal\n"
     ]
    }
   ],
   "source": [
    "c = 7yt #Not a variable"
   ]
  },
  {
   "cell_type": "markdown",
   "id": "d6b8ba35",
   "metadata": {},
   "source": [
    "# Valid Values in Python\n",
    "- Integers: Natural Numbers, Whole Numbers and Integers\n",
    "- Real Numbers: All real numbers are valid values in Python\n",
    "- ASCII Characters: All Keyboard characters enclosed in quotes(',\",''')\n",
    "- Strings: Collection of ASCII Characters enclosed in quotes(',\",''')\n",
    "- Booleans: True and False\n",
    "- Empty Collections: empty list, empty tuple, empty dictionary\n",
    "- All objects of exiting modules and custom classes are valid values"
   ]
  },
  {
   "cell_type": "code",
   "execution_count": 4,
   "id": "0feb9604",
   "metadata": {},
   "outputs": [],
   "source": [
    "#Integers\n",
    "int1 = 0\n",
    "int2 = 678\n",
    "int3 = -864"
   ]
  },
  {
   "cell_type": "code",
   "execution_count": 5,
   "id": "f77cee3d",
   "metadata": {},
   "outputs": [],
   "source": [
    "#Real Numbers\n",
    "float1 = 0.5\n",
    "float2 = 1.874\n",
    "float3 = 0.0"
   ]
  },
  {
   "cell_type": "code",
   "execution_count": 9,
   "id": "1ff1f876",
   "metadata": {},
   "outputs": [],
   "source": [
    "#Characters & Strings\n",
    "char1 = 't'\n",
    "string1 = 'CodinGrad'\n",
    "string2 = 'skfnsb787692q9@$$%===-097612@#$^%&*()' # combination of any ascii character"
   ]
  },
  {
   "cell_type": "code",
   "execution_count": 7,
   "id": "ee0cba40",
   "metadata": {},
   "outputs": [],
   "source": [
    "#Boolean Types\n",
    "status1 = True\n",
    "status2 = False"
   ]
  },
  {
   "cell_type": "markdown",
   "id": "3395bdff",
   "metadata": {},
   "source": [
    "# Naming Convensions\n",
    "- Variable names: Should be proper and they should justify why they are existing in a program\n",
    "- Example: a=1, b=2 --> input1, input2, \n",
    "- Varibale names cannot be python keywords\n",
    "- Example: True = \"Tharun\", sum\n",
    "- You should use keywords like sum with _ as prefix or postfix\n",
    "- Example: sum_ = input1 + input2\n",
    "- Example2: _sum = input1 + input2\n",
    "- Variable names should be started with either _,or any alphabet\n",
    "- Example: 678Tharun = \"tharun\"\n",
    "# Best Practices for Naming\n",
    "- Only one single convention should be followed through out the software\n",
    "- student_name ==> snake case, you should use same convention for whole software\n",
    "- studentName ==> camal case"
   ]
  },
  {
   "cell_type": "code",
   "execution_count": 32,
   "id": "db7a6137",
   "metadata": {},
   "outputs": [],
   "source": [
    "string1 = \"Apple\""
   ]
  },
  {
   "cell_type": "markdown",
   "id": "092276c1",
   "metadata": {},
   "source": [
    "# Substrings\n",
    "- Its a part of the string\n",
    "- In python we can access the part of the string\n",
    "- Any String in python is an array or (sequential list) of characters\n",
    "- Index, Position\n",
    "- Array or List always starts with 0 index\n",
    "- Positions\n",
    "- Index = Position - 1\n",
    "- Slice is a substring which has more than one character\n",
    "- start position to end position\n",
    "- Slice = [start_position-1:end_position]\n",
    "- Slice = [start_index:end_position]\n",
    "- Consider \" \" (space), \",\", \".\", \":\", \";\", \"(\" as character\n",
    "- If your start_position is 1 then you need not specify start_index in the slice\n",
    "- If your end_position is the last character of the slice then you need not specify end_positing"
   ]
  },
  {
   "cell_type": "code",
   "execution_count": 35,
   "id": "c0ffcbcd",
   "metadata": {},
   "outputs": [],
   "source": [
    "sentence = \"Sun rises in the east\""
   ]
  },
  {
   "cell_type": "code",
   "execution_count": 36,
   "id": "f5fe61a9",
   "metadata": {},
   "outputs": [
    {
     "data": {
      "text/plain": [
       "'rises in the east'"
      ]
     },
     "execution_count": 36,
     "metadata": {},
     "output_type": "execute_result"
    }
   ],
   "source": [
    "sentence[4:]"
   ]
  },
  {
   "cell_type": "code",
   "execution_count": null,
   "id": "f2740ca2",
   "metadata": {},
   "outputs": [],
   "source": [
    "string1[2:]"
   ]
  },
  {
   "cell_type": "code",
   "execution_count": 34,
   "id": "4e55b891",
   "metadata": {},
   "outputs": [
    {
     "data": {
      "text/plain": [
       "'App'"
      ]
     },
     "execution_count": 34,
     "metadata": {},
     "output_type": "execute_result"
    }
   ],
   "source": [
    "string1[:3]"
   ]
  },
  {
   "cell_type": "code",
   "execution_count": 26,
   "id": "c6aa1579",
   "metadata": {},
   "outputs": [
    {
     "data": {
      "text/plain": [
       "'Appl e'"
      ]
     },
     "execution_count": 26,
     "metadata": {},
     "output_type": "execute_result"
    }
   ],
   "source": [
    "string1"
   ]
  },
  {
   "cell_type": "code",
   "execution_count": 20,
   "id": "56669102",
   "metadata": {},
   "outputs": [
    {
     "data": {
      "text/plain": [
       "'A'"
      ]
     },
     "execution_count": 20,
     "metadata": {},
     "output_type": "execute_result"
    }
   ],
   "source": [
    "string1[0]"
   ]
  },
  {
   "cell_type": "code",
   "execution_count": 21,
   "id": "ad2fa051",
   "metadata": {},
   "outputs": [
    {
     "data": {
      "text/plain": [
       "'e'"
      ]
     },
     "execution_count": 21,
     "metadata": {},
     "output_type": "execute_result"
    }
   ],
   "source": [
    "string1[4]"
   ]
  },
  {
   "cell_type": "code",
   "execution_count": 23,
   "id": "9f31a84f",
   "metadata": {},
   "outputs": [
    {
     "data": {
      "text/plain": [
       "'pp'"
      ]
     },
     "execution_count": 23,
     "metadata": {},
     "output_type": "execute_result"
    }
   ],
   "source": [
    "string1[1:3]"
   ]
  },
  {
   "cell_type": "code",
   "execution_count": 24,
   "id": "f1c6dca0",
   "metadata": {},
   "outputs": [
    {
     "data": {
      "text/plain": [
       "'Appl'"
      ]
     },
     "execution_count": 24,
     "metadata": {},
     "output_type": "execute_result"
    }
   ],
   "source": [
    "string1[0:4]"
   ]
  },
  {
   "cell_type": "code",
   "execution_count": 31,
   "id": "a0fedd58",
   "metadata": {},
   "outputs": [
    {
     "data": {
      "text/plain": [
       "'Appl '"
      ]
     },
     "execution_count": 31,
     "metadata": {},
     "output_type": "execute_result"
    }
   ],
   "source": [
    "string1[0:5]"
   ]
  },
  {
   "cell_type": "code",
   "execution_count": null,
   "id": "1f20bf92",
   "metadata": {},
   "outputs": [],
   "source": []
  },
  {
   "cell_type": "code",
   "execution_count": null,
   "id": "008daff7",
   "metadata": {},
   "outputs": [],
   "source": []
  },
  {
   "cell_type": "code",
   "execution_count": null,
   "id": "dd7654d9",
   "metadata": {},
   "outputs": [],
   "source": []
  },
  {
   "cell_type": "code",
   "execution_count": null,
   "id": "08307e2b",
   "metadata": {},
   "outputs": [],
   "source": []
  },
  {
   "cell_type": "code",
   "execution_count": 23,
   "id": "937863b0",
   "metadata": {},
   "outputs": [],
   "source": [
    "stmt = \"Tharun's lapotop\""
   ]
  },
  {
   "cell_type": "code",
   "execution_count": 24,
   "id": "6eb4bbdc",
   "metadata": {},
   "outputs": [],
   "source": [
    "stmt3 = 'Manager said, \\\"Tharun\\'s laptop damages\"'"
   ]
  },
  {
   "cell_type": "code",
   "execution_count": 25,
   "id": "994a3dd3",
   "metadata": {},
   "outputs": [],
   "source": [
    "stmt2 = '''Manager said, \"Tharun's laptop damaged\"'''"
   ]
  },
  {
   "cell_type": "code",
   "execution_count": 26,
   "id": "9efafa32",
   "metadata": {},
   "outputs": [
    {
     "data": {
      "text/plain": [
       "'Manager said, \"Tharun\\'s laptop damaged\"'"
      ]
     },
     "execution_count": 26,
     "metadata": {},
     "output_type": "execute_result"
    }
   ],
   "source": [
    "stmt2"
   ]
  },
  {
   "cell_type": "code",
   "execution_count": 27,
   "id": "f42ed4a9",
   "metadata": {},
   "outputs": [
    {
     "data": {
      "text/plain": [
       "'Manager said, \"Tharun\\'s laptop damages\"'"
      ]
     },
     "execution_count": 27,
     "metadata": {},
     "output_type": "execute_result"
    }
   ],
   "source": [
    "stmt3"
   ]
  },
  {
   "cell_type": "code",
   "execution_count": 28,
   "id": "29668a98",
   "metadata": {},
   "outputs": [],
   "source": [
    "e = 7"
   ]
  },
  {
   "cell_type": "code",
   "execution_count": 33,
   "id": "aef12d33",
   "metadata": {},
   "outputs": [],
   "source": [
    "s = a+e"
   ]
  },
  {
   "cell_type": "code",
   "execution_count": 34,
   "id": "96144cea",
   "metadata": {},
   "outputs": [
    {
     "data": {
      "text/plain": [
       "12.6"
      ]
     },
     "execution_count": 34,
     "metadata": {},
     "output_type": "execute_result"
    }
   ],
   "source": [
    "s"
   ]
  },
  {
   "cell_type": "code",
   "execution_count": 30,
   "id": "f97df10c",
   "metadata": {},
   "outputs": [
    {
     "data": {
      "text/plain": [
       "-1.4000000000000004"
      ]
     },
     "execution_count": 30,
     "metadata": {},
     "output_type": "execute_result"
    }
   ],
   "source": [
    "a-e"
   ]
  },
  {
   "cell_type": "code",
   "execution_count": 31,
   "id": "af743e29",
   "metadata": {},
   "outputs": [
    {
     "data": {
      "text/plain": [
       "39.199999999999996"
      ]
     },
     "execution_count": 31,
     "metadata": {},
     "output_type": "execute_result"
    }
   ],
   "source": [
    "a*e"
   ]
  },
  {
   "cell_type": "code",
   "execution_count": 32,
   "id": "25859e3f",
   "metadata": {},
   "outputs": [
    {
     "data": {
      "text/plain": [
       "0.7999999999999999"
      ]
     },
     "execution_count": 32,
     "metadata": {},
     "output_type": "execute_result"
    }
   ],
   "source": [
    "a/e"
   ]
  },
  {
   "cell_type": "code",
   "execution_count": null,
   "id": "1bae2713",
   "metadata": {},
   "outputs": [],
   "source": []
  }
 ],
 "metadata": {
  "kernelspec": {
   "display_name": "Python 3 (ipykernel)",
   "language": "python",
   "name": "python3"
  },
  "language_info": {
   "codemirror_mode": {
    "name": "ipython",
    "version": 3
   },
   "file_extension": ".py",
   "mimetype": "text/x-python",
   "name": "python",
   "nbconvert_exporter": "python",
   "pygments_lexer": "ipython3",
   "version": "3.11.3"
  }
 },
 "nbformat": 4,
 "nbformat_minor": 5
}
