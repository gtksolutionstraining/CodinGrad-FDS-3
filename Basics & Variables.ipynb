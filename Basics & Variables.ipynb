{
 "cells": [
  {
   "cell_type": "markdown",
   "id": "e67e94a6",
   "metadata": {},
   "source": [
    "# Variables\n",
    "- Variable: A name that has been assigned by a valid value\n",
    "- Impicit Type Casting\n",
    "- Explicit Type Casting"
   ]
  },
  {
   "cell_type": "code",
   "execution_count": 7,
   "id": "2fd346eb",
   "metadata": {},
   "outputs": [],
   "source": [
    "a = 5.6 # Variable"
   ]
  },
  {
   "cell_type": "code",
   "execution_count": 6,
   "id": "b2b9a1e9",
   "metadata": {},
   "outputs": [],
   "source": [
    "b = \"6\" #"
   ]
  },
  {
   "cell_type": "code",
   "execution_count": 10,
   "id": "dc4b48c3",
   "metadata": {},
   "outputs": [],
   "source": [
    "c = \"7u\""
   ]
  },
  {
   "cell_type": "code",
   "execution_count": 11,
   "id": "0feb9604",
   "metadata": {},
   "outputs": [
    {
     "data": {
      "text/plain": [
       "float"
      ]
     },
     "execution_count": 11,
     "metadata": {},
     "output_type": "execute_result"
    }
   ],
   "source": [
    "type(a)"
   ]
  },
  {
   "cell_type": "code",
   "execution_count": 12,
   "id": "c86a3926",
   "metadata": {},
   "outputs": [
    {
     "data": {
      "text/plain": [
       "str"
      ]
     },
     "execution_count": 12,
     "metadata": {},
     "output_type": "execute_result"
    }
   ],
   "source": [
    "type(b)"
   ]
  },
  {
   "cell_type": "code",
   "execution_count": 14,
   "id": "4511de28",
   "metadata": {},
   "outputs": [],
   "source": [
    "d = int(b)"
   ]
  },
  {
   "cell_type": "code",
   "execution_count": 15,
   "id": "e4267c0b",
   "metadata": {},
   "outputs": [
    {
     "data": {
      "text/plain": [
       "6"
      ]
     },
     "execution_count": 15,
     "metadata": {},
     "output_type": "execute_result"
    }
   ],
   "source": [
    "d"
   ]
  },
  {
   "cell_type": "code",
   "execution_count": 16,
   "id": "be0843f0",
   "metadata": {},
   "outputs": [
    {
     "data": {
      "text/plain": [
       "int"
      ]
     },
     "execution_count": 16,
     "metadata": {},
     "output_type": "execute_result"
    }
   ],
   "source": [
    "type(d)"
   ]
  },
  {
   "cell_type": "code",
   "execution_count": 22,
   "id": "48187750",
   "metadata": {},
   "outputs": [],
   "source": [
    "name = '''Tharun Kumar'''"
   ]
  },
  {
   "cell_type": "code",
   "execution_count": 18,
   "id": "ef4e4bfc",
   "metadata": {},
   "outputs": [],
   "source": [
    "name = \"Tharun Kumar\""
   ]
  },
  {
   "cell_type": "code",
   "execution_count": 20,
   "id": "2594b36c",
   "metadata": {},
   "outputs": [],
   "source": [
    "name = 'Tharun Kumar'"
   ]
  },
  {
   "cell_type": "code",
   "execution_count": 21,
   "id": "2b618170",
   "metadata": {},
   "outputs": [
    {
     "data": {
      "text/plain": [
       "str"
      ]
     },
     "execution_count": 21,
     "metadata": {},
     "output_type": "execute_result"
    }
   ],
   "source": [
    "type(name)"
   ]
  },
  {
   "cell_type": "code",
   "execution_count": 23,
   "id": "937863b0",
   "metadata": {},
   "outputs": [],
   "source": [
    "stmt = \"Tharun's lapotop\""
   ]
  },
  {
   "cell_type": "code",
   "execution_count": 24,
   "id": "6eb4bbdc",
   "metadata": {},
   "outputs": [],
   "source": [
    "stmt3 = 'Manager said, \\\"Tharun\\'s laptop damages\"'"
   ]
  },
  {
   "cell_type": "code",
   "execution_count": 25,
   "id": "994a3dd3",
   "metadata": {},
   "outputs": [],
   "source": [
    "stmt2 = '''Manager said, \"Tharun's laptop damaged\"'''"
   ]
  },
  {
   "cell_type": "code",
   "execution_count": 26,
   "id": "9efafa32",
   "metadata": {},
   "outputs": [
    {
     "data": {
      "text/plain": [
       "'Manager said, \"Tharun\\'s laptop damaged\"'"
      ]
     },
     "execution_count": 26,
     "metadata": {},
     "output_type": "execute_result"
    }
   ],
   "source": [
    "stmt2"
   ]
  },
  {
   "cell_type": "code",
   "execution_count": 27,
   "id": "f42ed4a9",
   "metadata": {},
   "outputs": [
    {
     "data": {
      "text/plain": [
       "'Manager said, \"Tharun\\'s laptop damages\"'"
      ]
     },
     "execution_count": 27,
     "metadata": {},
     "output_type": "execute_result"
    }
   ],
   "source": [
    "stmt3"
   ]
  },
  {
   "cell_type": "code",
   "execution_count": 28,
   "id": "29668a98",
   "metadata": {},
   "outputs": [],
   "source": [
    "e = 7"
   ]
  },
  {
   "cell_type": "code",
   "execution_count": 33,
   "id": "aef12d33",
   "metadata": {},
   "outputs": [],
   "source": [
    "s = a+e"
   ]
  },
  {
   "cell_type": "code",
   "execution_count": 34,
   "id": "96144cea",
   "metadata": {},
   "outputs": [
    {
     "data": {
      "text/plain": [
       "12.6"
      ]
     },
     "execution_count": 34,
     "metadata": {},
     "output_type": "execute_result"
    }
   ],
   "source": [
    "s"
   ]
  },
  {
   "cell_type": "code",
   "execution_count": 30,
   "id": "f97df10c",
   "metadata": {},
   "outputs": [
    {
     "data": {
      "text/plain": [
       "-1.4000000000000004"
      ]
     },
     "execution_count": 30,
     "metadata": {},
     "output_type": "execute_result"
    }
   ],
   "source": [
    "a-e"
   ]
  },
  {
   "cell_type": "code",
   "execution_count": 31,
   "id": "af743e29",
   "metadata": {},
   "outputs": [
    {
     "data": {
      "text/plain": [
       "39.199999999999996"
      ]
     },
     "execution_count": 31,
     "metadata": {},
     "output_type": "execute_result"
    }
   ],
   "source": [
    "a*e"
   ]
  },
  {
   "cell_type": "code",
   "execution_count": 32,
   "id": "25859e3f",
   "metadata": {},
   "outputs": [
    {
     "data": {
      "text/plain": [
       "0.7999999999999999"
      ]
     },
     "execution_count": 32,
     "metadata": {},
     "output_type": "execute_result"
    }
   ],
   "source": [
    "a/e"
   ]
  },
  {
   "cell_type": "code",
   "execution_count": null,
   "id": "1bae2713",
   "metadata": {},
   "outputs": [],
   "source": []
  }
 ],
 "metadata": {
  "kernelspec": {
   "display_name": "Python 3 (ipykernel)",
   "language": "python",
   "name": "python3"
  },
  "language_info": {
   "codemirror_mode": {
    "name": "ipython",
    "version": 3
   },
   "file_extension": ".py",
   "mimetype": "text/x-python",
   "name": "python",
   "nbconvert_exporter": "python",
   "pygments_lexer": "ipython3",
   "version": "3.11.3"
  }
 },
 "nbformat": 4,
 "nbformat_minor": 5
}
