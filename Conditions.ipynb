{
 "cells": [
  {
   "cell_type": "markdown",
   "id": "f9d371ee",
   "metadata": {},
   "source": [
    "# Question\n",
    "- You have to find given a number is even or not\n",
    "- Example --> 12351537284\n",
    "- Pseudo Code --> Similar code program\n",
    "\n",
    "- number = Given Number\n",
    "- if number is divisable by 2 then even\n",
    "- else then number is odd"
   ]
  },
  {
   "cell_type": "markdown",
   "id": "efe9e080",
   "metadata": {},
   "source": [
    "# Conditional Operators\n",
    "- Equality --> ==\n",
    "- Lessthan --> <\n",
    "- Greaterthan --> >\n",
    "- Lessthan or equalto --->  <=\n",
    "- greaterthan or equalto --->  >=\n",
    "- Not Equalto             --->  != or <>\n",
    "\n",
    "# Conditional Statements\n",
    "- they are if else\n",
    "- condition always should be wither true or false\n",
    "- Conditional statement evaluates only True and False\n",
    "- True --> Conditions that are satisfied any non-zero\n",
    "- False --> Condition that are not satisfied and zero is always false"
   ]
  },
  {
   "cell_type": "code",
   "execution_count": 10,
   "id": "125036c1",
   "metadata": {},
   "outputs": [
    {
     "name": "stdout",
     "output_type": "stream",
     "text": [
      "25 is not lessthan 25\n"
     ]
    }
   ],
   "source": [
    "if 25<25:\n",
    "    print(\"25 is lessthan 25\")\n",
    "else:\n",
    "    print(\"25 is not lessthan 25\")"
   ]
  },
  {
   "cell_type": "code",
   "execution_count": 3,
   "id": "5389fb9b",
   "metadata": {},
   "outputs": [
    {
     "name": "stdout",
     "output_type": "stream",
     "text": [
      "its odd\n"
     ]
    }
   ],
   "source": [
    "number = 134876437846238467\n",
    "if number % 2 == 0:\n",
    "    print(\"its even\")\n",
    "else:\n",
    "    print(\"its odd\")"
   ]
  },
  {
   "cell_type": "code",
   "execution_count": 9,
   "id": "5d18f507",
   "metadata": {},
   "outputs": [
    {
     "name": "stdout",
     "output_type": "stream",
     "text": [
      "no\n"
     ]
    }
   ],
   "source": [
    "if 0:\n",
    "    print(\"Yes\")\n",
    "else:\n",
    "    print(\"no\")"
   ]
  },
  {
   "cell_type": "code",
   "execution_count": 8,
   "id": "072f945f",
   "metadata": {},
   "outputs": [
    {
     "name": "stdout",
     "output_type": "stream",
     "text": [
      "User entered negative number\n"
     ]
    }
   ],
   "source": [
    "## ELIF Ladder\n",
    "number = -1\n",
    "\n",
    "if number == 0:\n",
    "    print(\"User entered number 0\")\n",
    "elif number > 0:\n",
    "    print(\"User entered positive number\")\n",
    "elif number <0:\n",
    "    print(\"User entered negative number\")\n",
    "else:\n",
    "    print(\"No MOre conditions\")"
   ]
  },
  {
   "cell_type": "code",
   "execution_count": null,
   "id": "da1c1efe",
   "metadata": {},
   "outputs": [],
   "source": []
  }
 ],
 "metadata": {
  "kernelspec": {
   "display_name": "Python 3 (ipykernel)",
   "language": "python",
   "name": "python3"
  },
  "language_info": {
   "codemirror_mode": {
    "name": "ipython",
    "version": 3
   },
   "file_extension": ".py",
   "mimetype": "text/x-python",
   "name": "python",
   "nbconvert_exporter": "python",
   "pygments_lexer": "ipython3",
   "version": "3.11.3"
  }
 },
 "nbformat": 4,
 "nbformat_minor": 5
}
