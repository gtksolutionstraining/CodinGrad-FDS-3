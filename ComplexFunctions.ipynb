{
 "cells": [
  {
   "cell_type": "code",
   "execution_count": 1,
   "id": "ae122e73",
   "metadata": {},
   "outputs": [],
   "source": [
    "# Generators"
   ]
  },
  {
   "cell_type": "code",
   "execution_count": 56,
   "id": "975a2b3d",
   "metadata": {},
   "outputs": [],
   "source": [
    "def function___():\n",
    "    \"\"\"\n",
    "    Big Logic Dataset building 100TB\n",
    "    Batches = 128*1024GB/128GB = 1024 batches\n",
    "    Each batch will be of size 128GB\n",
    "    Our Computer RAM is 256GB\n",
    "    \"\"\"\n",
    "    for batch in range(10):\n",
    "        yield f\"{batch} Returned\""
   ]
  },
  {
   "cell_type": "code",
   "execution_count": 57,
   "id": "818fa22d",
   "metadata": {},
   "outputs": [],
   "source": [
    "data = function___()"
   ]
  },
  {
   "cell_type": "code",
   "execution_count": 58,
   "id": "53b9004c",
   "metadata": {
    "scrolled": true
   },
   "outputs": [
    {
     "name": "stdout",
     "output_type": "stream",
     "text": [
      "0 Returned\n",
      "1 Returned\n",
      "2 Returned\n",
      "3 Returned\n",
      "4 Returned\n",
      "5 Returned\n",
      "6 Returned\n",
      "7 Returned\n",
      "8 Returned\n",
      "9 Returned\n"
     ]
    }
   ],
   "source": [
    "for i in data:\n",
    "    print(i)"
   ]
  },
  {
   "cell_type": "code",
   "execution_count": 6,
   "id": "90663034",
   "metadata": {},
   "outputs": [],
   "source": [
    "# Decoratos"
   ]
  },
  {
   "cell_type": "code",
   "execution_count": 18,
   "id": "5d71992c",
   "metadata": {},
   "outputs": [],
   "source": [
    "# --> MongoDBDatabase\n",
    "\n",
    "def mongodb_decorator(func):\n",
    "    def connection(*args, **kwargs):\n",
    "        print(\"Database Connection established\")\n",
    "        func()\n",
    "        print(\"Database Connection Closed\")\n",
    "        return\n",
    "    return connection\n",
    "\n",
    "@mongodb_decorator\n",
    "def extract_data():\n",
    "    \"\"\"\n",
    "    To extract you have return logic --> \n",
    "    2. Data Extraction\n",
    "    \"\"\"\n",
    "    print(\"Extraction of query\")"
   ]
  },
  {
   "cell_type": "code",
   "execution_count": 19,
   "id": "b5354ee6",
   "metadata": {},
   "outputs": [
    {
     "name": "stdout",
     "output_type": "stream",
     "text": [
      "Database Connection established\n",
      "Extraction of query\n",
      "Database Connection Closed\n"
     ]
    }
   ],
   "source": [
    "extract_data()"
   ]
  },
  {
   "cell_type": "code",
   "execution_count": null,
   "id": "f1c85c49",
   "metadata": {},
   "outputs": [],
   "source": [
    "## Database OCnnections\n",
    "## Web Development (API Development)\n",
    "## Efficient Computing\n",
    "    ## tensorflow\n",
    "    ## Pytorch"
   ]
  },
  {
   "cell_type": "code",
   "execution_count": 63,
   "id": "077372e2",
   "metadata": {},
   "outputs": [],
   "source": [
    "def addition(a,b,c,*args):\n",
    "    add = 0\n",
    "    print(args)\n",
    "    print(type(args))\n",
    "    for arg in args:\n",
    "        add += arg\n",
    "    print(add)"
   ]
  },
  {
   "cell_type": "code",
   "execution_count": 67,
   "id": "21c9392c",
   "metadata": {},
   "outputs": [
    {
     "name": "stdout",
     "output_type": "stream",
     "text": [
      "(4, 5, 6)\n",
      "<class 'tuple'>\n",
      "15\n"
     ]
    }
   ],
   "source": [
    "addition(1,2,3,4,5,6) # Positionaly only arguments"
   ]
  },
  {
   "cell_type": "code",
   "execution_count": 40,
   "id": "3d38e1cf",
   "metadata": {},
   "outputs": [],
   "source": [
    "def A(**kwargs):\n",
    "    print(kwargs)"
   ]
  },
  {
   "cell_type": "code",
   "execution_count": 43,
   "id": "d1bcab78",
   "metadata": {},
   "outputs": [
    {
     "name": "stdout",
     "output_type": "stream",
     "text": [
      "{'name': 'tharun', 'job': 'softare'}\n"
     ]
    }
   ],
   "source": [
    "A(name=\"tharun\",job=\"softare\")"
   ]
  },
  {
   "cell_type": "code",
   "execution_count": 30,
   "id": "7d4efb1f",
   "metadata": {},
   "outputs": [],
   "source": [
    "def truck(one_box):\n",
    "    \"\"\"\n",
    "    travel\n",
    "    \"\"\"\n",
    "def truck(one_box,one_box1):\n",
    "    \"\"\"\n",
    "    travel\n",
    "    \"\"\"\n",
    "def truck(one_box,one_box1,one_box2):\n",
    "    \"\"\"\n",
    "    travel\n",
    "    \"\"\"\n",
    "## based on the load (arguments) the functionality should differ but the name of the function is same for all of the method overloaded functions\n"
   ]
  },
  {
   "cell_type": "code",
   "execution_count": null,
   "id": "77a009ca",
   "metadata": {},
   "outputs": [],
   "source": [
    "truck(one_box)"
   ]
  }
 ],
 "metadata": {
  "kernelspec": {
   "display_name": "Python 3 (ipykernel)",
   "language": "python",
   "name": "python3"
  },
  "language_info": {
   "codemirror_mode": {
    "name": "ipython",
    "version": 3
   },
   "file_extension": ".py",
   "mimetype": "text/x-python",
   "name": "python",
   "nbconvert_exporter": "python",
   "pygments_lexer": "ipython3",
   "version": "3.11.3"
  }
 },
 "nbformat": 4,
 "nbformat_minor": 5
}
