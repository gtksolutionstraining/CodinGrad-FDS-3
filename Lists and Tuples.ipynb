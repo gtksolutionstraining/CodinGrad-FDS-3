{
 "cells": [
  {
   "cell_type": "markdown",
   "id": "f296cc7d",
   "metadata": {},
   "source": [
    "# Lists\n",
    "- List is a sequence of values\n",
    "- Sequence is an ordered collection\n",
    "- Lists will be enclosed by []\n",
    "- values can be numbers, strings, or any objects\n",
    "- A List can have only strings, only numbers, only objects, or mix of all three --> Mixed List\n",
    "- Lists are Mutable\n",
    "- List is also an iterable object\n",
    "# Set\n",
    "- Set is a collection of values\n",
    "- Set is an unordered collection\n",
    "- Sets will be enclosed by {}\n",
    "# Tuples\n",
    "- Tuple is also an ordered collection\n",
    "- Tuples will be enclosed by ()\n",
    "- Tuples are Immutable \n",
    "- Examples: (NAME, DOB, ADDRESS, PHONE, PAN_NUMBER, ADHAR_NUMBER, ACCOUNT_NUMBER) - Tuple\n",
    "- Examples: (NAME, ADHAR, PASSBOOK, OLDNUMBER, NEWNUMBER)\n",
    "- Will be usefull in databases\n",
    "- Tuple is also an iterable object\n",
    "# Mutability\n",
    "- If any data structure can be changed then that particular data structure is called mutable data structure\n",
    "- If any data structure cannot be changes then that particular data structure is called immutable data structure"
   ]
  },
  {
   "cell_type": "code",
   "execution_count": 16,
   "id": "008676d9",
   "metadata": {},
   "outputs": [],
   "source": [
    "students = []"
   ]
  },
  {
   "cell_type": "code",
   "execution_count": 17,
   "id": "c99f1db5",
   "metadata": {},
   "outputs": [],
   "source": [
    "students = [\"A\",\"B\",\"C\",\"D\",\"E\",\"F\"]"
   ]
  },
  {
   "cell_type": "code",
   "execution_count": 19,
   "id": "57cbeef6",
   "metadata": {},
   "outputs": [
    {
     "data": {
      "text/plain": [
       "'C'"
      ]
     },
     "execution_count": 19,
     "metadata": {},
     "output_type": "execute_result"
    }
   ],
   "source": [
    "# ---> For a position p an index will be i = p-1\n",
    "students[2]"
   ]
  },
  {
   "cell_type": "code",
   "execution_count": 20,
   "id": "683c2836",
   "metadata": {},
   "outputs": [
    {
     "data": {
      "text/plain": [
       "['B', 'C', 'D']"
      ]
     },
     "execution_count": 20,
     "metadata": {},
     "output_type": "execute_result"
    }
   ],
   "source": [
    "# ---> Slice from position p1 to position p2\n",
    "# ---> list[start_index:end_position]\n",
    "# ---> start_index = p1-1\n",
    "# ---> end_position = p2\n",
    "# ---> In students list out or slice out students from 2nd position to end:\n",
    "\n",
    "students[1:4]"
   ]
  },
  {
   "cell_type": "code",
   "execution_count": 21,
   "id": "495e4b0d",
   "metadata": {},
   "outputs": [
    {
     "data": {
      "text/plain": [
       "['B', 'C', 'D']"
      ]
     },
     "execution_count": 21,
     "metadata": {},
     "output_type": "execute_result"
    }
   ],
   "source": [
    "students[1:]"
   ]
  },
  {
   "cell_type": "markdown",
   "id": "e4407a1c",
   "metadata": {},
   "source": [
    "# Len()\n",
    "- Length function will give you the length of the collection\n",
    "- Collection can be string, list, set, tuple, other object"
   ]
  },
  {
   "cell_type": "code",
   "execution_count": 22,
   "id": "a1985b3a",
   "metadata": {},
   "outputs": [
    {
     "data": {
      "text/plain": [
       "4"
      ]
     },
     "execution_count": 22,
     "metadata": {},
     "output_type": "execute_result"
    }
   ],
   "source": [
    "len(students)"
   ]
  },
  {
   "cell_type": "code",
   "execution_count": 23,
   "id": "34c17c5b",
   "metadata": {},
   "outputs": [],
   "source": [
    "name = \"Tharun Kumar\""
   ]
  },
  {
   "cell_type": "code",
   "execution_count": 24,
   "id": "c2155df3",
   "metadata": {},
   "outputs": [
    {
     "data": {
      "text/plain": [
       "12"
      ]
     },
     "execution_count": 24,
     "metadata": {},
     "output_type": "execute_result"
    }
   ],
   "source": [
    "len(name)"
   ]
  },
  {
   "cell_type": "code",
   "execution_count": 26,
   "id": "41a169ce",
   "metadata": {},
   "outputs": [],
   "source": [
    "# To add an element or a value in existing list we will use append function\n",
    "# append function will add a value at the last\n",
    "# insert function will add a value at desired location"
   ]
  },
  {
   "cell_type": "code",
   "execution_count": 27,
   "id": "e84942d8",
   "metadata": {},
   "outputs": [
    {
     "data": {
      "text/plain": [
       "['A', 'B', 'C', 'D']"
      ]
     },
     "execution_count": 27,
     "metadata": {},
     "output_type": "execute_result"
    }
   ],
   "source": [
    "students"
   ]
  },
  {
   "cell_type": "code",
   "execution_count": 37,
   "id": "674d8723",
   "metadata": {},
   "outputs": [],
   "source": [
    "students.append('E')"
   ]
  },
  {
   "cell_type": "code",
   "execution_count": 39,
   "id": "2f83802c",
   "metadata": {},
   "outputs": [
    {
     "data": {
      "text/plain": [
       "['A', 'B', 'Z', 'C', 'D', 'E', 'E']"
      ]
     },
     "execution_count": 39,
     "metadata": {},
     "output_type": "execute_result"
    }
   ],
   "source": [
    "students"
   ]
  },
  {
   "cell_type": "code",
   "execution_count": 30,
   "id": "d1bce9e1",
   "metadata": {},
   "outputs": [],
   "source": [
    "students.insert(2,'Z')"
   ]
  },
  {
   "cell_type": "code",
   "execution_count": 31,
   "id": "987245e3",
   "metadata": {},
   "outputs": [
    {
     "data": {
      "text/plain": [
       "['A', 'B', 'Z', 'C', 'D', 'E']"
      ]
     },
     "execution_count": 31,
     "metadata": {},
     "output_type": "execute_result"
    }
   ],
   "source": [
    "students"
   ]
  },
  {
   "cell_type": "code",
   "execution_count": 34,
   "id": "4ef7abf8",
   "metadata": {},
   "outputs": [
    {
     "data": {
      "text/plain": [
       "4"
      ]
     },
     "execution_count": 34,
     "metadata": {},
     "output_type": "execute_result"
    }
   ],
   "source": [
    "students.index('D')"
   ]
  },
  {
   "cell_type": "code",
   "execution_count": 40,
   "id": "09653b04",
   "metadata": {},
   "outputs": [
    {
     "data": {
      "text/plain": [
       "2"
      ]
     },
     "execution_count": 40,
     "metadata": {},
     "output_type": "execute_result"
    }
   ],
   "source": [
    "students.count('E')"
   ]
  },
  {
   "cell_type": "code",
   "execution_count": 52,
   "id": "33f06e87",
   "metadata": {},
   "outputs": [
    {
     "data": {
      "text/plain": [
       "['A', 'B', 'Z', 'C', 'Y', 'E', 'E']"
      ]
     },
     "execution_count": 52,
     "metadata": {},
     "output_type": "execute_result"
    }
   ],
   "source": [
    "students"
   ]
  },
  {
   "cell_type": "code",
   "execution_count": 53,
   "id": "4ae9c888",
   "metadata": {},
   "outputs": [],
   "source": [
    "students[4] = 'X'"
   ]
  },
  {
   "cell_type": "code",
   "execution_count": 54,
   "id": "fee45cae",
   "metadata": {},
   "outputs": [
    {
     "data": {
      "text/plain": [
       "['A', 'B', 'Z', 'C', 'X', 'E', 'E']"
      ]
     },
     "execution_count": 54,
     "metadata": {},
     "output_type": "execute_result"
    }
   ],
   "source": [
    "students"
   ]
  },
  {
   "cell_type": "code",
   "execution_count": 61,
   "id": "6a290095",
   "metadata": {},
   "outputs": [],
   "source": [
    "students.remove('C') # Remove function remove or delete an element which occurs first"
   ]
  },
  {
   "cell_type": "code",
   "execution_count": 66,
   "id": "dc99de7b",
   "metadata": {},
   "outputs": [],
   "source": [
    "students.remove(students[3])"
   ]
  },
  {
   "cell_type": "code",
   "execution_count": 67,
   "id": "4b11f410",
   "metadata": {},
   "outputs": [
    {
     "data": {
      "text/plain": [
       "['A', 'B', 'Z', 'E']"
      ]
     },
     "execution_count": 67,
     "metadata": {},
     "output_type": "execute_result"
    }
   ],
   "source": [
    "students"
   ]
  },
  {
   "cell_type": "code",
   "execution_count": 59,
   "id": "be74ad11",
   "metadata": {},
   "outputs": [
    {
     "name": "stdout",
     "output_type": "stream",
     "text": [
      "Help on built-in function remove:\n",
      "\n",
      "remove(value, /) method of builtins.list instance\n",
      "    Remove first occurrence of value.\n",
      "    \n",
      "    Raises ValueError if the value is not present.\n",
      "\n"
     ]
    }
   ],
   "source": [
    "help(students.remove)"
   ]
  },
  {
   "cell_type": "code",
   "execution_count": 56,
   "id": "a1c26f8b",
   "metadata": {},
   "outputs": [
    {
     "data": {
      "text/plain": [
       "['A', 'B', 'Z', 'C', 'X', 'E']"
      ]
     },
     "execution_count": 56,
     "metadata": {},
     "output_type": "execute_result"
    }
   ],
   "source": [
    "students"
   ]
  },
  {
   "cell_type": "code",
   "execution_count": 43,
   "id": "b396ca0e",
   "metadata": {},
   "outputs": [],
   "source": [
    "students[4] = 'Y' #Lists are mutable"
   ]
  },
  {
   "cell_type": "code",
   "execution_count": 44,
   "id": "4dece02a",
   "metadata": {},
   "outputs": [
    {
     "data": {
      "text/plain": [
       "['A', 'B', 'Z', 'C', 'Y', 'E', 'E']"
      ]
     },
     "execution_count": 44,
     "metadata": {},
     "output_type": "execute_result"
    }
   ],
   "source": [
    "students"
   ]
  },
  {
   "cell_type": "code",
   "execution_count": 45,
   "id": "8a3edf60",
   "metadata": {},
   "outputs": [],
   "source": [
    "students_tuple = ('A','B','C','D')"
   ]
  },
  {
   "cell_type": "code",
   "execution_count": 51,
   "id": "998773ae",
   "metadata": {},
   "outputs": [
    {
     "data": {
      "text/plain": [
       "('A', 'B', 'C', 'D')"
      ]
     },
     "execution_count": 51,
     "metadata": {},
     "output_type": "execute_result"
    }
   ],
   "source": [
    "students_tuple"
   ]
  },
  {
   "cell_type": "code",
   "execution_count": 49,
   "id": "82d7fe1e",
   "metadata": {},
   "outputs": [
    {
     "ename": "TypeError",
     "evalue": "'tuple' object does not support item assignment",
     "output_type": "error",
     "traceback": [
      "\u001b[0;31m---------------------------------------------------------------------------\u001b[0m",
      "\u001b[0;31mTypeError\u001b[0m                                 Traceback (most recent call last)",
      "Cell \u001b[0;32mIn[49], line 1\u001b[0m\n\u001b[0;32m----> 1\u001b[0m \u001b[43mstudents_tuple\u001b[49m\u001b[43m[\u001b[49m\u001b[38;5;241;43m3\u001b[39;49m\u001b[43m]\u001b[49m \u001b[38;5;241m=\u001b[39m \u001b[38;5;124m'\u001b[39m\u001b[38;5;124mY\u001b[39m\u001b[38;5;124m'\u001b[39m\n",
      "\u001b[0;31mTypeError\u001b[0m: 'tuple' object does not support item assignment"
     ]
    }
   ],
   "source": [
    "students_tuple[3] = 'Y' # We will get error because tuples are immutable"
   ]
  },
  {
   "cell_type": "code",
   "execution_count": 68,
   "id": "9bd4a012",
   "metadata": {},
   "outputs": [],
   "source": [
    "# Remove duplicates in a list"
   ]
  },
  {
   "cell_type": "code",
   "execution_count": 69,
   "id": "4feb4cd7",
   "metadata": {},
   "outputs": [],
   "source": [
    "# Find unique names in the class"
   ]
  },
  {
   "cell_type": "code",
   "execution_count": 70,
   "id": "7ba9182a",
   "metadata": {},
   "outputs": [],
   "source": [
    "names = [\"Raj\",\"Raj\",\"Rani\",\"Laxmi\",\"Tharun\",\"Tharun\",\"Pavan\",\"Pravalika\",\"Sai\"]"
   ]
  },
  {
   "cell_type": "code",
   "execution_count": 71,
   "id": "6b6c8e17",
   "metadata": {},
   "outputs": [
    {
     "name": "stdout",
     "output_type": "stream",
     "text": [
      "{'Pavan', 'Raj', 'Sai', 'Rani', 'Tharun', 'Pravalika', 'Laxmi'}\n"
     ]
    }
   ],
   "source": [
    "print(set(names))"
   ]
  },
  {
   "cell_type": "code",
   "execution_count": 5,
   "id": "82e3817e",
   "metadata": {},
   "outputs": [
    {
     "data": {
      "text/plain": [
       "[]"
      ]
     },
     "execution_count": 5,
     "metadata": {},
     "output_type": "execute_result"
    }
   ],
   "source": [
    "students"
   ]
  },
  {
   "cell_type": "code",
   "execution_count": 6,
   "id": "43b7419a",
   "metadata": {},
   "outputs": [],
   "source": [
    "students.append(\"Pravalika\")"
   ]
  },
  {
   "cell_type": "code",
   "execution_count": 7,
   "id": "a9f8bee8",
   "metadata": {},
   "outputs": [
    {
     "data": {
      "text/plain": [
       "['Pravalika']"
      ]
     },
     "execution_count": 7,
     "metadata": {},
     "output_type": "execute_result"
    }
   ],
   "source": [
    "students"
   ]
  },
  {
   "cell_type": "code",
   "execution_count": 8,
   "id": "95103c9b",
   "metadata": {},
   "outputs": [],
   "source": [
    "students.append(\"Pavan\")"
   ]
  },
  {
   "cell_type": "code",
   "execution_count": 9,
   "id": "bebc113c",
   "metadata": {},
   "outputs": [
    {
     "data": {
      "text/plain": [
       "['Pravalika', 'Pavan']"
      ]
     },
     "execution_count": 9,
     "metadata": {},
     "output_type": "execute_result"
    }
   ],
   "source": [
    "students"
   ]
  },
  {
   "cell_type": "code",
   "execution_count": 10,
   "id": "20402ca9",
   "metadata": {},
   "outputs": [],
   "source": [
    "students.append(99669966990)"
   ]
  },
  {
   "cell_type": "code",
   "execution_count": 11,
   "id": "82f9d7fd",
   "metadata": {},
   "outputs": [
    {
     "data": {
      "text/plain": [
       "['Pravalika', 'Pavan', 99669966990]"
      ]
     },
     "execution_count": 11,
     "metadata": {},
     "output_type": "execute_result"
    }
   ],
   "source": [
    "students"
   ]
  },
  {
   "cell_type": "code",
   "execution_count": 12,
   "id": "8541620c",
   "metadata": {},
   "outputs": [],
   "source": [
    "students_rank = [\"Pravalika\",\"Pavan\",\"Somu\",\"Maha\",\"Arun\",\"Jayanth\",\"Ooha\",\"Laxmi\"]"
   ]
  },
  {
   "cell_type": "code",
   "execution_count": 13,
   "id": "2d95ad04",
   "metadata": {},
   "outputs": [],
   "source": [
    "students = {\"Pravalika\",\"Pavan\",\"Somu\",\"Maha\",\"Arun\",\"Jayanth\",\"Ooha\",\"Laxmi\"}"
   ]
  },
  {
   "cell_type": "code",
   "execution_count": 14,
   "id": "ff1dbbe5",
   "metadata": {},
   "outputs": [],
   "source": [
    "input1 = 0"
   ]
  },
  {
   "cell_type": "code",
   "execution_count": null,
   "id": "7d9fe282",
   "metadata": {},
   "outputs": [],
   "source": []
  },
  {
   "cell_type": "code",
   "execution_count": null,
   "id": "a07a1eb5",
   "metadata": {},
   "outputs": [],
   "source": []
  },
  {
   "cell_type": "code",
   "execution_count": null,
   "id": "8a35e5f7",
   "metadata": {},
   "outputs": [],
   "source": []
  },
  {
   "cell_type": "code",
   "execution_count": 2,
   "id": "a1760b13",
   "metadata": {},
   "outputs": [],
   "source": [
    "students = [\"A\",\"B\",\"C\",\"D\",\"E\",\"F\",\"G\",\"H\"]"
   ]
  },
  {
   "cell_type": "markdown",
   "id": "306a2e01",
   "metadata": {},
   "source": [
    "# Looping / Iterations\n",
    "- For Loops\n",
    "- -  For each loop\n",
    "- -  For loop\n",
    "- While Loops"
   ]
  },
  {
   "cell_type": "code",
   "execution_count": null,
   "id": "aa4c5490",
   "metadata": {},
   "outputs": [],
   "source": [
    "# For Each loops is for iterating through iterable object\n",
    "for <each element name> in <list object name>:\n",
    "    <statement1>\n",
    "    <statement2>\n",
    "    <statement3>\n",
    "<statement4>"
   ]
  },
  {
   "cell_type": "code",
   "execution_count": 4,
   "id": "5cbe64ca",
   "metadata": {},
   "outputs": [
    {
     "name": "stdout",
     "output_type": "stream",
     "text": [
      "Teacher: What is your Name?\n",
      "Student: My Name is A\n",
      "Teacher: What is your Name?\n",
      "Student: My Name is B\n",
      "Teacher: What is your Name?\n",
      "Student: My Name is C\n",
      "Teacher: What is your Name?\n",
      "Student: My Name is D\n",
      "Teacher: What is your Name?\n",
      "Student: My Name is E\n",
      "Teacher: What is your Name?\n",
      "Student: My Name is F\n",
      "Teacher: What is your Name?\n",
      "Student: My Name is G\n",
      "Teacher: What is your Name?\n",
      "Student: My Name is H\n"
     ]
    }
   ],
   "source": [
    "for student in students:\n",
    "    print(f\"Teacher: What is your Name?\")\n",
    "    print(f\"Student: My Name is {student}\")"
   ]
  },
  {
   "cell_type": "code",
   "execution_count": null,
   "id": "f671a438",
   "metadata": {},
   "outputs": [],
   "source": [
    "# Normal For Loop is for iterations or repeatitions"
   ]
  },
  {
   "cell_type": "code",
   "execution_count": 7,
   "id": "6de6b3d5",
   "metadata": {},
   "outputs": [
    {
     "name": "stdout",
     "output_type": "stream",
     "text": [
      "I am sorry!\n",
      "I am sorry!\n",
      "I am sorry!\n",
      "I am sorry!\n",
      "I am sorry!\n",
      "I am sorry!\n",
      "I am sorry!\n",
      "I am sorry!\n",
      "I am sorry!\n",
      "I am sorry!\n"
     ]
    }
   ],
   "source": [
    "for i in range(10):\n",
    "    print(\"I am sorry!\")"
   ]
  },
  {
   "cell_type": "code",
   "execution_count": 8,
   "id": "e0c55c3f",
   "metadata": {},
   "outputs": [],
   "source": [
    "# Range (min, max)\n",
    "# Range (from_index, to_position)\n",
    "# range(0,10)\n",
    "# no of iteration = to_position - from_index"
   ]
  },
  {
   "cell_type": "code",
   "execution_count": 11,
   "id": "1a0a315a",
   "metadata": {},
   "outputs": [
    {
     "name": "stdout",
     "output_type": "stream",
     "text": [
      "Iteration:5\n",
      "Iteration:6\n",
      "Iteration:7\n",
      "Iteration:8\n",
      "Iteration:9\n"
     ]
    }
   ],
   "source": [
    "for iteration in range(5,10):\n",
    "    print(f\"Iteration:{iteration}\")"
   ]
  },
  {
   "cell_type": "code",
   "execution_count": 10,
   "id": "1ae7c1a6",
   "metadata": {},
   "outputs": [
    {
     "name": "stdout",
     "output_type": "stream",
     "text": [
      "Iteration:0\n",
      "Iteration:1\n",
      "Iteration:2\n",
      "Iteration:3\n",
      "Iteration:4\n",
      "Iteration:5\n",
      "Iteration:6\n",
      "Iteration:7\n",
      "Iteration:8\n",
      "Iteration:9\n"
     ]
    }
   ],
   "source": [
    "for iteration in range(10):\n",
    "    print(f\"Iteration:{iteration}\")"
   ]
  },
  {
   "cell_type": "code",
   "execution_count": 14,
   "id": "4e8e4f10",
   "metadata": {},
   "outputs": [],
   "source": [
    "# How many number of iterations happend in the following for loop\n",
    "# no of iterations = 100\n",
    "# total no of iterations = (to_position-from_index)/stride"
   ]
  },
  {
   "cell_type": "code",
   "execution_count": 17,
   "id": "f7a4c761",
   "metadata": {},
   "outputs": [
    {
     "name": "stdout",
     "output_type": "stream",
     "text": [
      "Iteration:0\n",
      "Iteration:2\n",
      "Iteration:4\n",
      "Iteration:6\n",
      "Iteration:8\n"
     ]
    }
   ],
   "source": [
    "for iteration in range(0,10,2):\n",
    "    print(f\"Iteration:{iteration}\")"
   ]
  },
  {
   "cell_type": "code",
   "execution_count": 18,
   "id": "a603b3bc",
   "metadata": {},
   "outputs": [
    {
     "data": {
      "text/plain": [
       "['A', 'B', 'C', 'D', 'E', 'F', 'G', 'H']"
      ]
     },
     "execution_count": 18,
     "metadata": {},
     "output_type": "execute_result"
    }
   ],
   "source": [
    "students"
   ]
  },
  {
   "cell_type": "code",
   "execution_count": 19,
   "id": "10c67756",
   "metadata": {},
   "outputs": [
    {
     "data": {
      "text/plain": [
       "5"
      ]
     },
     "execution_count": 19,
     "metadata": {},
     "output_type": "execute_result"
    }
   ],
   "source": [
    "students.index(\"F\")"
   ]
  },
  {
   "cell_type": "code",
   "execution_count": null,
   "id": "44b202a0",
   "metadata": {},
   "outputs": [],
   "source": []
  },
  {
   "cell_type": "code",
   "execution_count": null,
   "id": "82f7d004",
   "metadata": {},
   "outputs": [],
   "source": []
  },
  {
   "cell_type": "code",
   "execution_count": 53,
   "id": "9a2b84c6",
   "metadata": {},
   "outputs": [],
   "source": [
    "students = [\"A\",\"B\",\"C\",\"D\",\"E\"]"
   ]
  },
  {
   "cell_type": "code",
   "execution_count": 26,
   "id": "1c7f9d14",
   "metadata": {},
   "outputs": [],
   "source": [
    "ages = [25,26,15,29,30]"
   ]
  },
  {
   "cell_type": "code",
   "execution_count": 22,
   "id": "a20e2556",
   "metadata": {},
   "outputs": [],
   "source": [
    "# Find an age of given student name"
   ]
  },
  {
   "cell_type": "code",
   "execution_count": 56,
   "id": "88ea093a",
   "metadata": {},
   "outputs": [],
   "source": [
    "given_name = \"E\""
   ]
  },
  {
   "cell_type": "code",
   "execution_count": 54,
   "id": "737eac73",
   "metadata": {},
   "outputs": [
    {
     "ename": "SyntaxError",
     "evalue": "invalid decimal literal (2101247401.py, line 6)",
     "output_type": "error",
     "traceback": [
      "\u001b[0;36m  Cell \u001b[0;32mIn[54], line 6\u001b[0;36m\u001b[0m\n\u001b[0;31m    -- If your search found at 1st place then time xomplexity will be O(1) ---> Best Case\u001b[0m\n\u001b[0m                               ^\u001b[0m\n\u001b[0;31mSyntaxError\u001b[0m\u001b[0;31m:\u001b[0m invalid decimal literal\n"
     ]
    }
   ],
   "source": [
    "# Searching Problem\n",
    "-- You have to exit immedietly after search success\n",
    "-- Time Complexity\n",
    "-- Will always be interms of input data \n",
    "-- Length of the list = n\n",
    "-- If your search found at 1st place then time xomplexity will be O(1) ---> Best Case\n",
    "-- If your search found at last place then time complexity will be O(n) ---> Worst Case\n",
    "-- If your search found in somplace between last and first -->> O(n/2) ---> Average Case\n",
    "-- Linear Search\n",
    "\n",
    "-- Binary Search ---> Worst Case Time Complexity ==> O(logn)"
   ]
  },
  {
   "cell_type": "code",
   "execution_count": 57,
   "id": "0df54de4",
   "metadata": {},
   "outputs": [
    {
     "name": "stdout",
     "output_type": "stream",
     "text": [
      "Age of student E is: 30\n"
     ]
    }
   ],
   "source": [
    "for i in range(len(students)):\n",
    "    if students[i] == given_name:\n",
    "        print(f\"Age of student {students[i]} is: {ages[i]}\")\n",
    "        break"
   ]
  },
  {
   "cell_type": "markdown",
   "id": "1443dcb9",
   "metadata": {},
   "source": [
    "# Dictionaries:\n",
    "## Hashing\n",
    "- - Key, Value Pairs\n",
    "- - In Searching Dictionaries Time Complexity will be ---> O(1) in most of the cases\n",
    "- - Mapping Function --> 1, B-2, C-3\n",
    "- - A --> 25, B ---> 26, C ---> 15 , etc\n",
    "- - Given input \"A\"\n",
    "- - Output 25\n",
    "- - Dictionary Keys always be either integers or strings (Immutable) except list,set\n",
    "- - Dictionary values can be anything or any object"
   ]
  },
  {
   "cell_type": "code",
   "execution_count": 66,
   "id": "ca8952c1",
   "metadata": {},
   "outputs": [],
   "source": [
    "adhars = {}"
   ]
  },
  {
   "cell_type": "code",
   "execution_count": 67,
   "id": "0c72be33",
   "metadata": {},
   "outputs": [
    {
     "data": {
      "text/plain": [
       "dict"
      ]
     },
     "execution_count": 67,
     "metadata": {},
     "output_type": "execute_result"
    }
   ],
   "source": [
    "type(adhars)"
   ]
  },
  {
   "cell_type": "code",
   "execution_count": 68,
   "id": "ecca201b",
   "metadata": {},
   "outputs": [],
   "source": [
    "user_iris = \"EYSES\"\n",
    "user_mother = \"Mothe\"\n",
    "user_father = \"father\"\n",
    "user_dob = \"dob\"\n",
    "user_address = \"address\""
   ]
  },
  {
   "cell_type": "code",
   "execution_count": 69,
   "id": "884df842",
   "metadata": {},
   "outputs": [],
   "source": [
    "TEMP_USER_ENROLLEMENT = {\"iris\":user_iris,\n",
    "             \"mother\":user_mother,\n",
    "             \"father\":user_father,\n",
    "             \"dob\":user_dob,\n",
    "             \"address\":user_address}"
   ]
  },
  {
   "cell_type": "code",
   "execution_count": 70,
   "id": "46dad052",
   "metadata": {},
   "outputs": [],
   "source": [
    "adhars[42387462382389] = TEMP_USER"
   ]
  },
  {
   "cell_type": "code",
   "execution_count": 58,
   "id": "70567691",
   "metadata": {},
   "outputs": [],
   "source": [
    "students_age = {\"A\":25,\"B\":26,\"C\":15,\"D\":29,\"E\":30}"
   ]
  },
  {
   "cell_type": "code",
   "execution_count": 59,
   "id": "65001f76",
   "metadata": {},
   "outputs": [
    {
     "data": {
      "text/plain": [
       "30"
      ]
     },
     "execution_count": 59,
     "metadata": {},
     "output_type": "execute_result"
    }
   ],
   "source": [
    "students_age[\"E\"]"
   ]
  },
  {
   "cell_type": "code",
   "execution_count": 50,
   "id": "12115fb1",
   "metadata": {},
   "outputs": [
    {
     "data": {
      "text/plain": [
       "dict_keys(['A', 'B', 'C', 'D', 'E'])"
      ]
     },
     "execution_count": 50,
     "metadata": {},
     "output_type": "execute_result"
    }
   ],
   "source": [
    "students_age.keys()"
   ]
  },
  {
   "cell_type": "code",
   "execution_count": 51,
   "id": "9b89a1eb",
   "metadata": {},
   "outputs": [
    {
     "data": {
      "text/plain": [
       "dict_values([25, 26, 15, 29, 30])"
      ]
     },
     "execution_count": 51,
     "metadata": {},
     "output_type": "execute_result"
    }
   ],
   "source": [
    "students_age.values()"
   ]
  },
  {
   "cell_type": "code",
   "execution_count": 48,
   "id": "51e7a483",
   "metadata": {},
   "outputs": [
    {
     "data": {
      "text/plain": [
       "30"
      ]
     },
     "execution_count": 48,
     "metadata": {},
     "output_type": "execute_result"
    }
   ],
   "source": [
    "students_age[\"E\"]"
   ]
  },
  {
   "cell_type": "code",
   "execution_count": null,
   "id": "dcee0276",
   "metadata": {},
   "outputs": [],
   "source": [
    "indians = {2349623897923:\"This is infor about tharun\",\n",
    "          12364523843284:\"Thus us infor aboyrt Sai\"}"
   ]
  }
 ],
 "metadata": {
  "kernelspec": {
   "display_name": "Python 3 (ipykernel)",
   "language": "python",
   "name": "python3"
  },
  "language_info": {
   "codemirror_mode": {
    "name": "ipython",
    "version": 3
   },
   "file_extension": ".py",
   "mimetype": "text/x-python",
   "name": "python",
   "nbconvert_exporter": "python",
   "pygments_lexer": "ipython3",
   "version": "3.11.3"
  }
 },
 "nbformat": 4,
 "nbformat_minor": 5
}
