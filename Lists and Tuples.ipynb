{
 "cells": [
  {
   "cell_type": "markdown",
   "id": "f296cc7d",
   "metadata": {},
   "source": [
    "# Lists\n",
    "- List is a sequence of values\n",
    "- Sequence is an ordered collection\n",
    "- Lists will be enclosed by []\n",
    "- values can be numbers, strings, or any objects\n",
    "- A List can have only strings, only numbers, only objects, or mix of all three --> Mixed List\n",
    "- Lists are Mutable\n",
    "# Set\n",
    "- Set is a collection of values\n",
    "- Set is an unordered collection\n",
    "- Sets will be enclosed by {}\n",
    "# Tuples\n",
    "- Tuple is also an ordered collection\n",
    "- Tuples will be enclosed by ()\n",
    "- Tuples are Immutable \n",
    "- Examples: (NAME, DOB, ADDRESS, PHONE, PAN_NUMBER, ADHAR_NUMBER, ACCOUNT_NUMBER) - Tuple\n",
    "- Examples: (NAME, ADHAR, PASSBOOK, OLDNUMBER, NEWNUMBER)\n",
    "- Will be usefull in databases\n",
    "# Mutability\n",
    "- If any data structure can be changed then that particular data structure is called mutable data structure\n",
    "- If any data structure cannot be changes then that particular data structure is called immutable data structure"
   ]
  },
  {
   "cell_type": "code",
   "execution_count": 16,
   "id": "008676d9",
   "metadata": {},
   "outputs": [],
   "source": [
    "students = []"
   ]
  },
  {
   "cell_type": "code",
   "execution_count": 17,
   "id": "c99f1db5",
   "metadata": {},
   "outputs": [],
   "source": [
    "students = [\"A\",\"B\",\"C\",\"D\",\"E\",\"F\"]"
   ]
  },
  {
   "cell_type": "code",
   "execution_count": 19,
   "id": "57cbeef6",
   "metadata": {},
   "outputs": [
    {
     "data": {
      "text/plain": [
       "'C'"
      ]
     },
     "execution_count": 19,
     "metadata": {},
     "output_type": "execute_result"
    }
   ],
   "source": [
    "# ---> For a position p an index will be i = p-1\n",
    "students[2]"
   ]
  },
  {
   "cell_type": "code",
   "execution_count": 20,
   "id": "683c2836",
   "metadata": {},
   "outputs": [
    {
     "data": {
      "text/plain": [
       "['B', 'C', 'D']"
      ]
     },
     "execution_count": 20,
     "metadata": {},
     "output_type": "execute_result"
    }
   ],
   "source": [
    "# ---> Slice from position p1 to position p2\n",
    "# ---> list[start_index:end_position]\n",
    "# ---> start_index = p1-1\n",
    "# ---> end_position = p2\n",
    "# ---> In students list out or slice out students from 2nd position to end:\n",
    "\n",
    "students[1:4]"
   ]
  },
  {
   "cell_type": "code",
   "execution_count": 21,
   "id": "495e4b0d",
   "metadata": {},
   "outputs": [
    {
     "data": {
      "text/plain": [
       "['B', 'C', 'D']"
      ]
     },
     "execution_count": 21,
     "metadata": {},
     "output_type": "execute_result"
    }
   ],
   "source": [
    "students[1:]"
   ]
  },
  {
   "cell_type": "markdown",
   "id": "e4407a1c",
   "metadata": {},
   "source": [
    "# Len()\n",
    "- Length function will give you the length of the collection\n",
    "- Collection can be string, list, set, tuple, other object"
   ]
  },
  {
   "cell_type": "code",
   "execution_count": 22,
   "id": "a1985b3a",
   "metadata": {},
   "outputs": [
    {
     "data": {
      "text/plain": [
       "4"
      ]
     },
     "execution_count": 22,
     "metadata": {},
     "output_type": "execute_result"
    }
   ],
   "source": [
    "len(students)"
   ]
  },
  {
   "cell_type": "code",
   "execution_count": 23,
   "id": "34c17c5b",
   "metadata": {},
   "outputs": [],
   "source": [
    "name = \"Tharun Kumar\""
   ]
  },
  {
   "cell_type": "code",
   "execution_count": 24,
   "id": "c2155df3",
   "metadata": {},
   "outputs": [
    {
     "data": {
      "text/plain": [
       "12"
      ]
     },
     "execution_count": 24,
     "metadata": {},
     "output_type": "execute_result"
    }
   ],
   "source": [
    "len(name)"
   ]
  },
  {
   "cell_type": "code",
   "execution_count": 26,
   "id": "41a169ce",
   "metadata": {},
   "outputs": [],
   "source": [
    "# To add an element or a value in existing list we will use append function\n",
    "# append function will add a value at the last\n",
    "# insert function will add a value at desired location"
   ]
  },
  {
   "cell_type": "code",
   "execution_count": 27,
   "id": "e84942d8",
   "metadata": {},
   "outputs": [
    {
     "data": {
      "text/plain": [
       "['A', 'B', 'C', 'D']"
      ]
     },
     "execution_count": 27,
     "metadata": {},
     "output_type": "execute_result"
    }
   ],
   "source": [
    "students"
   ]
  },
  {
   "cell_type": "code",
   "execution_count": 37,
   "id": "674d8723",
   "metadata": {},
   "outputs": [],
   "source": [
    "students.append('E')"
   ]
  },
  {
   "cell_type": "code",
   "execution_count": 39,
   "id": "2f83802c",
   "metadata": {},
   "outputs": [
    {
     "data": {
      "text/plain": [
       "['A', 'B', 'Z', 'C', 'D', 'E', 'E']"
      ]
     },
     "execution_count": 39,
     "metadata": {},
     "output_type": "execute_result"
    }
   ],
   "source": [
    "students"
   ]
  },
  {
   "cell_type": "code",
   "execution_count": 30,
   "id": "d1bce9e1",
   "metadata": {},
   "outputs": [],
   "source": [
    "students.insert(2,'Z')"
   ]
  },
  {
   "cell_type": "code",
   "execution_count": 31,
   "id": "987245e3",
   "metadata": {},
   "outputs": [
    {
     "data": {
      "text/plain": [
       "['A', 'B', 'Z', 'C', 'D', 'E']"
      ]
     },
     "execution_count": 31,
     "metadata": {},
     "output_type": "execute_result"
    }
   ],
   "source": [
    "students"
   ]
  },
  {
   "cell_type": "code",
   "execution_count": 34,
   "id": "4ef7abf8",
   "metadata": {},
   "outputs": [
    {
     "data": {
      "text/plain": [
       "4"
      ]
     },
     "execution_count": 34,
     "metadata": {},
     "output_type": "execute_result"
    }
   ],
   "source": [
    "students.index('D')"
   ]
  },
  {
   "cell_type": "code",
   "execution_count": 40,
   "id": "09653b04",
   "metadata": {},
   "outputs": [
    {
     "data": {
      "text/plain": [
       "2"
      ]
     },
     "execution_count": 40,
     "metadata": {},
     "output_type": "execute_result"
    }
   ],
   "source": [
    "students.count('E')"
   ]
  },
  {
   "cell_type": "code",
   "execution_count": 52,
   "id": "33f06e87",
   "metadata": {},
   "outputs": [
    {
     "data": {
      "text/plain": [
       "['A', 'B', 'Z', 'C', 'Y', 'E', 'E']"
      ]
     },
     "execution_count": 52,
     "metadata": {},
     "output_type": "execute_result"
    }
   ],
   "source": [
    "students"
   ]
  },
  {
   "cell_type": "code",
   "execution_count": 53,
   "id": "4ae9c888",
   "metadata": {},
   "outputs": [],
   "source": [
    "students[4] = 'X'"
   ]
  },
  {
   "cell_type": "code",
   "execution_count": 54,
   "id": "fee45cae",
   "metadata": {},
   "outputs": [
    {
     "data": {
      "text/plain": [
       "['A', 'B', 'Z', 'C', 'X', 'E', 'E']"
      ]
     },
     "execution_count": 54,
     "metadata": {},
     "output_type": "execute_result"
    }
   ],
   "source": [
    "students"
   ]
  },
  {
   "cell_type": "code",
   "execution_count": 61,
   "id": "6a290095",
   "metadata": {},
   "outputs": [],
   "source": [
    "students.remove('C') # Remove function remove or delete an element which occurs first"
   ]
  },
  {
   "cell_type": "code",
   "execution_count": 66,
   "id": "dc99de7b",
   "metadata": {},
   "outputs": [],
   "source": [
    "students.remove(students[3])"
   ]
  },
  {
   "cell_type": "code",
   "execution_count": 67,
   "id": "4b11f410",
   "metadata": {},
   "outputs": [
    {
     "data": {
      "text/plain": [
       "['A', 'B', 'Z', 'E']"
      ]
     },
     "execution_count": 67,
     "metadata": {},
     "output_type": "execute_result"
    }
   ],
   "source": [
    "students"
   ]
  },
  {
   "cell_type": "code",
   "execution_count": 59,
   "id": "be74ad11",
   "metadata": {},
   "outputs": [
    {
     "name": "stdout",
     "output_type": "stream",
     "text": [
      "Help on built-in function remove:\n",
      "\n",
      "remove(value, /) method of builtins.list instance\n",
      "    Remove first occurrence of value.\n",
      "    \n",
      "    Raises ValueError if the value is not present.\n",
      "\n"
     ]
    }
   ],
   "source": [
    "help(students.remove)"
   ]
  },
  {
   "cell_type": "code",
   "execution_count": 56,
   "id": "a1c26f8b",
   "metadata": {},
   "outputs": [
    {
     "data": {
      "text/plain": [
       "['A', 'B', 'Z', 'C', 'X', 'E']"
      ]
     },
     "execution_count": 56,
     "metadata": {},
     "output_type": "execute_result"
    }
   ],
   "source": [
    "students"
   ]
  },
  {
   "cell_type": "code",
   "execution_count": 43,
   "id": "b396ca0e",
   "metadata": {},
   "outputs": [],
   "source": [
    "students[4] = 'Y' #Lists are mutable"
   ]
  },
  {
   "cell_type": "code",
   "execution_count": 44,
   "id": "4dece02a",
   "metadata": {},
   "outputs": [
    {
     "data": {
      "text/plain": [
       "['A', 'B', 'Z', 'C', 'Y', 'E', 'E']"
      ]
     },
     "execution_count": 44,
     "metadata": {},
     "output_type": "execute_result"
    }
   ],
   "source": [
    "students"
   ]
  },
  {
   "cell_type": "code",
   "execution_count": 45,
   "id": "8a3edf60",
   "metadata": {},
   "outputs": [],
   "source": [
    "students_tuple = ('A','B','C','D')"
   ]
  },
  {
   "cell_type": "code",
   "execution_count": 51,
   "id": "998773ae",
   "metadata": {},
   "outputs": [
    {
     "data": {
      "text/plain": [
       "('A', 'B', 'C', 'D')"
      ]
     },
     "execution_count": 51,
     "metadata": {},
     "output_type": "execute_result"
    }
   ],
   "source": [
    "students_tuple"
   ]
  },
  {
   "cell_type": "code",
   "execution_count": 49,
   "id": "82d7fe1e",
   "metadata": {},
   "outputs": [
    {
     "ename": "TypeError",
     "evalue": "'tuple' object does not support item assignment",
     "output_type": "error",
     "traceback": [
      "\u001b[0;31m---------------------------------------------------------------------------\u001b[0m",
      "\u001b[0;31mTypeError\u001b[0m                                 Traceback (most recent call last)",
      "Cell \u001b[0;32mIn[49], line 1\u001b[0m\n\u001b[0;32m----> 1\u001b[0m \u001b[43mstudents_tuple\u001b[49m\u001b[43m[\u001b[49m\u001b[38;5;241;43m3\u001b[39;49m\u001b[43m]\u001b[49m \u001b[38;5;241m=\u001b[39m \u001b[38;5;124m'\u001b[39m\u001b[38;5;124mY\u001b[39m\u001b[38;5;124m'\u001b[39m\n",
      "\u001b[0;31mTypeError\u001b[0m: 'tuple' object does not support item assignment"
     ]
    }
   ],
   "source": [
    "students_tuple[3] = 'Y' # We will get error because tuples are immutable"
   ]
  },
  {
   "cell_type": "code",
   "execution_count": 68,
   "id": "9bd4a012",
   "metadata": {},
   "outputs": [],
   "source": [
    "# Remove duplicates in a list"
   ]
  },
  {
   "cell_type": "code",
   "execution_count": 69,
   "id": "4feb4cd7",
   "metadata": {},
   "outputs": [],
   "source": [
    "# Find unique names in the class"
   ]
  },
  {
   "cell_type": "code",
   "execution_count": 70,
   "id": "7ba9182a",
   "metadata": {},
   "outputs": [],
   "source": [
    "names = [\"Raj\",\"Raj\",\"Rani\",\"Laxmi\",\"Tharun\",\"Tharun\",\"Pavan\",\"Pravalika\",\"Sai\"]"
   ]
  },
  {
   "cell_type": "code",
   "execution_count": 71,
   "id": "6b6c8e17",
   "metadata": {},
   "outputs": [
    {
     "name": "stdout",
     "output_type": "stream",
     "text": [
      "{'Pavan', 'Raj', 'Sai', 'Rani', 'Tharun', 'Pravalika', 'Laxmi'}\n"
     ]
    }
   ],
   "source": [
    "print(set(names))"
   ]
  },
  {
   "cell_type": "code",
   "execution_count": 5,
   "id": "82e3817e",
   "metadata": {},
   "outputs": [
    {
     "data": {
      "text/plain": [
       "[]"
      ]
     },
     "execution_count": 5,
     "metadata": {},
     "output_type": "execute_result"
    }
   ],
   "source": [
    "students"
   ]
  },
  {
   "cell_type": "code",
   "execution_count": 6,
   "id": "43b7419a",
   "metadata": {},
   "outputs": [],
   "source": [
    "students.append(\"Pravalika\")"
   ]
  },
  {
   "cell_type": "code",
   "execution_count": 7,
   "id": "a9f8bee8",
   "metadata": {},
   "outputs": [
    {
     "data": {
      "text/plain": [
       "['Pravalika']"
      ]
     },
     "execution_count": 7,
     "metadata": {},
     "output_type": "execute_result"
    }
   ],
   "source": [
    "students"
   ]
  },
  {
   "cell_type": "code",
   "execution_count": 8,
   "id": "95103c9b",
   "metadata": {},
   "outputs": [],
   "source": [
    "students.append(\"Pavan\")"
   ]
  },
  {
   "cell_type": "code",
   "execution_count": 9,
   "id": "bebc113c",
   "metadata": {},
   "outputs": [
    {
     "data": {
      "text/plain": [
       "['Pravalika', 'Pavan']"
      ]
     },
     "execution_count": 9,
     "metadata": {},
     "output_type": "execute_result"
    }
   ],
   "source": [
    "students"
   ]
  },
  {
   "cell_type": "code",
   "execution_count": 10,
   "id": "20402ca9",
   "metadata": {},
   "outputs": [],
   "source": [
    "students.append(99669966990)"
   ]
  },
  {
   "cell_type": "code",
   "execution_count": 11,
   "id": "82f9d7fd",
   "metadata": {},
   "outputs": [
    {
     "data": {
      "text/plain": [
       "['Pravalika', 'Pavan', 99669966990]"
      ]
     },
     "execution_count": 11,
     "metadata": {},
     "output_type": "execute_result"
    }
   ],
   "source": [
    "students"
   ]
  },
  {
   "cell_type": "code",
   "execution_count": 12,
   "id": "8541620c",
   "metadata": {},
   "outputs": [],
   "source": [
    "students_rank = [\"Pravalika\",\"Pavan\",\"Somu\",\"Maha\",\"Arun\",\"Jayanth\",\"Ooha\",\"Laxmi\"]"
   ]
  },
  {
   "cell_type": "code",
   "execution_count": 13,
   "id": "2d95ad04",
   "metadata": {},
   "outputs": [],
   "source": [
    "students = {\"Pravalika\",\"Pavan\",\"Somu\",\"Maha\",\"Arun\",\"Jayanth\",\"Ooha\",\"Laxmi\"}"
   ]
  },
  {
   "cell_type": "code",
   "execution_count": 14,
   "id": "ff1dbbe5",
   "metadata": {},
   "outputs": [],
   "source": [
    "input1 = 0"
   ]
  },
  {
   "cell_type": "code",
   "execution_count": 15,
   "id": "75c0da88",
   "metadata": {},
   "outputs": [
    {
     "ename": "NameError",
     "evalue": "name 'input2' is not defined",
     "output_type": "error",
     "traceback": [
      "\u001b[0;31m---------------------------------------------------------------------------\u001b[0m",
      "\u001b[0;31mNameError\u001b[0m                                 Traceback (most recent call last)",
      "Cell \u001b[0;32mIn[15], line 1\u001b[0m\n\u001b[0;32m----> 1\u001b[0m \u001b[43minput2\u001b[49m\n",
      "\u001b[0;31mNameError\u001b[0m: name 'input2' is not defined"
     ]
    }
   ],
   "source": [
    "input2"
   ]
  },
  {
   "cell_type": "code",
   "execution_count": null,
   "id": "a1760b13",
   "metadata": {},
   "outputs": [],
   "source": []
  }
 ],
 "metadata": {
  "kernelspec": {
   "display_name": "Python 3 (ipykernel)",
   "language": "python",
   "name": "python3"
  },
  "language_info": {
   "codemirror_mode": {
    "name": "ipython",
    "version": 3
   },
   "file_extension": ".py",
   "mimetype": "text/x-python",
   "name": "python",
   "nbconvert_exporter": "python",
   "pygments_lexer": "ipython3",
   "version": "3.11.3"
  }
 },
 "nbformat": 4,
 "nbformat_minor": 5
}
