{
 "cells": [
  {
   "cell_type": "markdown",
   "id": "9554a210",
   "metadata": {},
   "source": [
    "# Functions\n",
    "- Functions are code blocks which will be used repeatedly\n",
    "- Function will take inputs\n",
    "- By using those inputs it will work --> apply logic\n",
    "- The output from the work(logic) should be given back"
   ]
  },
  {
   "cell_type": "code",
   "execution_count": 10,
   "id": "e353143b",
   "metadata": {},
   "outputs": [],
   "source": [
    "def functional_block_name(inpu1,input2, input3):\n",
    "    # using these inputs you have to write the logic\n",
    "    # Output variable \n",
    "    # return the varible to whom you have been called by\n",
    "    pass"
   ]
  },
  {
   "cell_type": "code",
   "execution_count": 6,
   "id": "47996924",
   "metadata": {},
   "outputs": [
    {
     "name": "stdout",
     "output_type": "stream",
     "text": [
      "Hello Tharun!\n",
      "How are you?\n"
     ]
    }
   ],
   "source": [
    "print(\"Hello Tharun!\\nHow are you?\")"
   ]
  },
  {
   "cell_type": "code",
   "execution_count": 7,
   "id": "2701708a",
   "metadata": {},
   "outputs": [
    {
     "name": "stdout",
     "output_type": "stream",
     "text": [
      "\n",
      "USER MENU:\n",
      " 1. Addition\n",
      " 2. Subtraction\n",
      " 3. Multiplication\n",
      " 4. Division\n",
      " 5. Exit\n",
      "\n",
      "Please Enter your choice: 5\n",
      "Thank you for using. Exiting!!!\n"
     ]
    }
   ],
   "source": [
    "status = True\n",
    "while status:\n",
    "    print(\"\\nUSER MENU:\\n 1. Addition\\n 2. Subtraction\\n 3. Multiplication\\n 4. Division\\n 5. Exit\\n\")\n",
    "    choice = int(input(\"Please Enter your choice: \"))\n",
    "    if choice == 1:\n",
    "        input1 = int(input(\"Enter input1: \"))\n",
    "        input2 = int(input(\"Enter input2: \"))\n",
    "        addition = input1 + input2\n",
    "        print(f\"Your Addition is: {addition}\")\n",
    "    elif choice == 2:\n",
    "        input1 = int(input(\"Enter input1: \"))\n",
    "        input2 = int(input(\"Enter input2: \"))\n",
    "        addition = input1 - input2\n",
    "        print(f\"Your Subtraction is: {addition}\")\n",
    "    elif choice == 3:\n",
    "        input1 = int(input(\"Enter input1: \"))\n",
    "        input2 = int(input(\"Enter input2: \"))\n",
    "        addition = input1 * input2\n",
    "        print(f\"Your Multiplication is: {addition}\")\n",
    "    elif choice == 4:\n",
    "        input1 = int(input(\"Enter input1: \"))\n",
    "        input2 = int(input(\"Enter input2: \"))\n",
    "        addition = input1 / input2\n",
    "        print(f\"Your Division is: {addition}\")\n",
    "    elif choice == 5:\n",
    "        print(\"Thank you for using. Exiting!!!\")\n",
    "        status = False"
   ]
  },
  {
   "cell_type": "code",
   "execution_count": 37,
   "id": "834bf257",
   "metadata": {},
   "outputs": [],
   "source": [
    "def greeting():\n",
    "    print(\"Hello guys! Welcome!\")"
   ]
  },
  {
   "cell_type": "code",
   "execution_count": 14,
   "id": "d8a5fca6",
   "metadata": {},
   "outputs": [
    {
     "name": "stdout",
     "output_type": "stream",
     "text": [
      "Hello guys! Welcome!\n"
     ]
    }
   ],
   "source": [
    "greeting()"
   ]
  },
  {
   "cell_type": "code",
   "execution_count": 32,
   "id": "a23bb8d8",
   "metadata": {},
   "outputs": [
    {
     "name": "stdout",
     "output_type": "stream",
     "text": [
      "sdfjksdfnsdj\n"
     ]
    }
   ],
   "source": [
    "diplay()"
   ]
  },
  {
   "cell_type": "code",
   "execution_count": 31,
   "id": "8dca332d",
   "metadata": {},
   "outputs": [],
   "source": [
    "def diplay():\n",
    "    print(\"sdfjksdfnsdj\")"
   ]
  },
  {
   "cell_type": "code",
   "execution_count": 33,
   "id": "5bba501e",
   "metadata": {},
   "outputs": [
    {
     "name": "stdout",
     "output_type": "stream",
     "text": [
      "sdfjksdfnsdj\n"
     ]
    }
   ],
   "source": [
    "diplay()"
   ]
  },
  {
   "cell_type": "code",
   "execution_count": 23,
   "id": "3199db16",
   "metadata": {},
   "outputs": [],
   "source": [
    "a = 78"
   ]
  },
  {
   "cell_type": "code",
   "execution_count": 43,
   "id": "43cce683",
   "metadata": {},
   "outputs": [],
   "source": [
    "def take_two_inputs():\n",
    "    input1 = int(input(\"Enter input1: \"))\n",
    "    input2 = int(input(\"Enter input2: \"))\n",
    "    return input1, input2"
   ]
  },
  {
   "cell_type": "markdown",
   "id": "eae4fbd8",
   "metadata": {},
   "source": [
    "# Variable Scope\n",
    "- variable scope will be defined by any block\n",
    "- if a variable is defined in one specific block it is called local variable\n",
    "- If a varible is defined out of all code blocks or in a global space then it is called global variable"
   ]
  },
  {
   "cell_type": "code",
   "execution_count": 1,
   "id": "58e8a54e",
   "metadata": {},
   "outputs": [
    {
     "name": "stdout",
     "output_type": "stream",
     "text": [
      "\n",
      "USER MENU:\n",
      " 1. Addition\n",
      " 2. Subtraction\n",
      " 3. Multiplication\n",
      " 4. Division\n",
      " 5. Exit\n",
      "\n",
      "Please Enter your choice: 5\n",
      "Thank you for using! Exiting\n",
      "Out Of the software\n"
     ]
    }
   ],
   "source": [
    "status = True\n",
    "while status:\n",
    "    print(\"\\nUSER MENU:\\n 1. Addition\\n 2. Subtraction\\n 3. Multiplication\\n 4. Division\\n 5. Exit\\n\")\n",
    "    choice = int(input(\"Please Enter your choice: \"))\n",
    "    if choice == 5:\n",
    "        print(\"Thank you for using! Exiting\")\n",
    "        status = False\n",
    "    else:\n",
    "        input1, input2 = take_two_inputs()\n",
    "        if choice == 1:\n",
    "            addition = input1 + input2\n",
    "            print(f\"Your Addition is:{addition}\")\n",
    "        elif choice == 2:\n",
    "            addition = input1 - input2\n",
    "            print(f\"Your Subtraction is:{addition}\")\n",
    "        elif choice == 3:\n",
    "            addition = input1 * input2\n",
    "            print(f\"Your Multiplication is:{addition}\")\n",
    "        elif choice == 4:\n",
    "            addition = input1 / input2\n",
    "            print(f\"Your Divisions is:{addition}\")\n",
    "print(\"Out Of the software\")"
   ]
  },
  {
   "cell_type": "code",
   "execution_count": 24,
   "id": "cedfdbfb",
   "metadata": {},
   "outputs": [
    {
     "data": {
      "text/plain": [
       "78"
      ]
     },
     "execution_count": 24,
     "metadata": {},
     "output_type": "execute_result"
    }
   ],
   "source": [
    "a"
   ]
  },
  {
   "cell_type": "markdown",
   "id": "4d3ecf7e",
   "metadata": {},
   "source": [
    "# Function Parameters/Arguments\n",
    "- Parameters/Arguments are inputs to the function\n",
    "- Positional Arguments\n",
    "- Keyword Arguments == All positional arguments are keyword arguments\n",
    "- Default Arguments\n",
    "- Positional only arguments = should be before \"/\"\n",
    "- Positional Arguments = should be after \"/\"\n",
    "- keyword only arguments = ahould be after \"*\"\n",
    "- Default arguments always should be at the last or should be after \"*\"\n",
    "- Keyword only are reqired arguments --> They dont have default value \n",
    "- Default arguments are optional arguments"
   ]
  },
  {
   "cell_type": "code",
   "execution_count": 61,
   "id": "e210c2c2",
   "metadata": {},
   "outputs": [],
   "source": [
    "def X(a,/,t,b,h,*,c=10,d=7):\n",
    "    print(f\"A is {a}\")\n",
    "    print(f\"B is {b}\")\n",
    "    print(f\"C is {c}\")\n",
    "    print(f\"D is {d}\")\n",
    "    ## positional only arguments = a\n",
    "    ## positional arguments = b\n",
    "    ## keyword arguments = b\n",
    "    ## Default Arguments = c\n",
    "    ## keyword Only Arguments = d"
   ]
  },
  {
   "cell_type": "code",
   "execution_count": 51,
   "id": "8c84f86f",
   "metadata": {},
   "outputs": [
    {
     "name": "stdout",
     "output_type": "stream",
     "text": [
      "A is 10\n",
      "B is 2\n",
      "C is 11\n",
      "D is 90\n"
     ]
    }
   ],
   "source": [
    "X(10,b=2,c=11,d=90)"
   ]
  },
  {
   "cell_type": "code",
   "execution_count": 62,
   "id": "3b23b0c6",
   "metadata": {},
   "outputs": [
    {
     "name": "stdout",
     "output_type": "stream",
     "text": [
      "A is 1\n",
      "B is 3\n",
      "C is 10\n",
      "D is 7\n"
     ]
    }
   ],
   "source": [
    "X(1,2,3,4)"
   ]
  },
  {
   "cell_type": "code",
   "execution_count": null,
   "id": "52d90562",
   "metadata": {},
   "outputs": [],
   "source": []
  },
  {
   "cell_type": "code",
   "execution_count": 3,
   "id": "07fde90b",
   "metadata": {},
   "outputs": [],
   "source": [
    "def A():\n",
    "    pass "
   ]
  },
  {
   "cell_type": "code",
   "execution_count": 4,
   "id": "41b61f73",
   "metadata": {},
   "outputs": [],
   "source": [
    "def B(a,b):\n",
    "    # First parameter --> a\n",
    "    # Second Parameter --> b\n",
    "    # Position is matter\n",
    "    print(f\"A is {a}\")\n",
    "    print(f\"B is {b}\")"
   ]
  },
  {
   "cell_type": "code",
   "execution_count": 5,
   "id": "0108cd7d",
   "metadata": {},
   "outputs": [],
   "source": [
    "A()"
   ]
  },
  {
   "cell_type": "code",
   "execution_count": 6,
   "id": "d2f05e5e",
   "metadata": {},
   "outputs": [
    {
     "ename": "TypeError",
     "evalue": "B() missing 2 required positional arguments: 'a' and 'b'",
     "output_type": "error",
     "traceback": [
      "\u001b[0;31m---------------------------------------------------------------------------\u001b[0m",
      "\u001b[0;31mTypeError\u001b[0m                                 Traceback (most recent call last)",
      "Cell \u001b[0;32mIn[6], line 1\u001b[0m\n\u001b[0;32m----> 1\u001b[0m \u001b[43mB\u001b[49m\u001b[43m(\u001b[49m\u001b[43m)\u001b[49m\n",
      "\u001b[0;31mTypeError\u001b[0m: B() missing 2 required positional arguments: 'a' and 'b'"
     ]
    }
   ],
   "source": [
    "B()"
   ]
  },
  {
   "cell_type": "code",
   "execution_count": 7,
   "id": "bb434c5f",
   "metadata": {},
   "outputs": [
    {
     "name": "stdout",
     "output_type": "stream",
     "text": [
      "A is 1\n",
      "B is 2\n"
     ]
    }
   ],
   "source": [
    "B(1,2)"
   ]
  },
  {
   "cell_type": "code",
   "execution_count": 8,
   "id": "38e2c9ef",
   "metadata": {},
   "outputs": [
    {
     "name": "stdout",
     "output_type": "stream",
     "text": [
      "A is 2\n",
      "B is 1\n"
     ]
    }
   ],
   "source": [
    "a = 1\n",
    "b = 2\n",
    "B(b,a)"
   ]
  },
  {
   "cell_type": "code",
   "execution_count": 9,
   "id": "e8062651",
   "metadata": {},
   "outputs": [
    {
     "name": "stdout",
     "output_type": "stream",
     "text": [
      "A is 2\n",
      "B is 1\n"
     ]
    }
   ],
   "source": [
    "B(b=1,a=2)"
   ]
  },
  {
   "cell_type": "code",
   "execution_count": 10,
   "id": "70460c21",
   "metadata": {},
   "outputs": [],
   "source": [
    "def C(a,b,c=10):\n",
    "    print(f\"A is {a}\")\n",
    "    print(f\"B is {b}\")\n",
    "    print(f\"C is {c}\")"
   ]
  },
  {
   "cell_type": "code",
   "execution_count": 11,
   "id": "9c8518f7",
   "metadata": {},
   "outputs": [
    {
     "ename": "TypeError",
     "evalue": "C() missing 2 required positional arguments: 'a' and 'b'",
     "output_type": "error",
     "traceback": [
      "\u001b[0;31m---------------------------------------------------------------------------\u001b[0m",
      "\u001b[0;31mTypeError\u001b[0m                                 Traceback (most recent call last)",
      "Cell \u001b[0;32mIn[11], line 1\u001b[0m\n\u001b[0;32m----> 1\u001b[0m \u001b[43mC\u001b[49m\u001b[43m(\u001b[49m\u001b[43m)\u001b[49m\n",
      "\u001b[0;31mTypeError\u001b[0m: C() missing 2 required positional arguments: 'a' and 'b'"
     ]
    }
   ],
   "source": [
    "C()"
   ]
  },
  {
   "cell_type": "code",
   "execution_count": 12,
   "id": "c84d5250",
   "metadata": {},
   "outputs": [
    {
     "name": "stdout",
     "output_type": "stream",
     "text": [
      "A is 1\n",
      "B is 2\n",
      "C is 10\n"
     ]
    }
   ],
   "source": [
    "C(1,2)"
   ]
  },
  {
   "cell_type": "code",
   "execution_count": 13,
   "id": "349fc731",
   "metadata": {},
   "outputs": [
    {
     "name": "stdout",
     "output_type": "stream",
     "text": [
      "A is 1\n",
      "B is 2\n",
      "C is 3\n"
     ]
    }
   ],
   "source": [
    "C(1,2,3)"
   ]
  },
  {
   "cell_type": "code",
   "execution_count": 40,
   "id": "74e41664",
   "metadata": {},
   "outputs": [],
   "source": [
    "def D(a,b,/,d,e,*,f):\n",
    "    pass"
   ]
  },
  {
   "cell_type": "code",
   "execution_count": 42,
   "id": "357c864a",
   "metadata": {},
   "outputs": [
    {
     "ename": "TypeError",
     "evalue": "D() takes 4 positional arguments but 5 were given",
     "output_type": "error",
     "traceback": [
      "\u001b[0;31m---------------------------------------------------------------------------\u001b[0m",
      "\u001b[0;31mTypeError\u001b[0m                                 Traceback (most recent call last)",
      "Cell \u001b[0;32mIn[42], line 1\u001b[0m\n\u001b[0;32m----> 1\u001b[0m \u001b[43mD\u001b[49m\u001b[43m(\u001b[49m\u001b[38;5;241;43m1\u001b[39;49m\u001b[43m,\u001b[49m\u001b[38;5;241;43m2\u001b[39;49m\u001b[43m,\u001b[49m\u001b[38;5;241;43m3\u001b[39;49m\u001b[43m,\u001b[49m\u001b[38;5;241;43m4\u001b[39;49m\u001b[43m,\u001b[49m\u001b[38;5;241;43m4\u001b[39;49m\u001b[43m)\u001b[49m\n",
      "\u001b[0;31mTypeError\u001b[0m: D() takes 4 positional arguments but 5 were given"
     ]
    }
   ],
   "source": [
    "D(1,2,3,4,4)"
   ]
  },
  {
   "cell_type": "markdown",
   "id": "3d84dc62",
   "metadata": {},
   "source": [
    "# Special Python Functions\n",
    "- Lambda : Anonymous function\n",
    "- Lambda takes any number of inputs and returns an expression or only one variable or object\n",
    "- Filter\n",
    "- Filter function will be applicable for lists and dictionaries as inputs\n",
    "- Filter function will take 2 arguments, one is filtering function, other is list of dictionary\n",
    "- Filtering function will have the logic for filter, and it should definitley return \"True\"\n",
    "- Filter function returns the reference of the computation\n",
    "- Map"
   ]
  },
  {
   "cell_type": "code",
   "execution_count": 80,
   "id": "af880383",
   "metadata": {},
   "outputs": [],
   "source": [
    "def exp(x):\n",
    "    return [2*x,x],x"
   ]
  },
  {
   "cell_type": "code",
   "execution_count": 95,
   "id": "41e30def",
   "metadata": {},
   "outputs": [],
   "source": [
    "a = lambda x:2*x"
   ]
  },
  {
   "cell_type": "code",
   "execution_count": 91,
   "id": "31dca7fe",
   "metadata": {},
   "outputs": [],
   "source": [
    "b = lambda x1,/,x2,*,x4,x3=10:x1+x2+x3"
   ]
  },
  {
   "cell_type": "code",
   "execution_count": 94,
   "id": "50a90d9f",
   "metadata": {},
   "outputs": [
    {
     "data": {
      "text/plain": [
       "13"
      ]
     },
     "execution_count": 94,
     "metadata": {},
     "output_type": "execute_result"
    }
   ],
   "source": [
    "b(1,2,x4=10)"
   ]
  },
  {
   "cell_type": "code",
   "execution_count": 81,
   "id": "06155566",
   "metadata": {},
   "outputs": [
    {
     "data": {
      "text/plain": [
       "([36, 18], 18)"
      ]
     },
     "execution_count": 81,
     "metadata": {},
     "output_type": "execute_result"
    }
   ],
   "source": [
    "exp(18)"
   ]
  },
  {
   "cell_type": "code",
   "execution_count": 84,
   "id": "e82b1574",
   "metadata": {},
   "outputs": [
    {
     "data": {
      "text/plain": [
       "4"
      ]
     },
     "execution_count": 84,
     "metadata": {},
     "output_type": "execute_result"
    }
   ],
   "source": [
    "a(2)"
   ]
  },
  {
   "cell_type": "code",
   "execution_count": 66,
   "id": "e3fcb01d",
   "metadata": {},
   "outputs": [
    {
     "data": {
      "text/plain": [
       "36"
      ]
     },
     "execution_count": 66,
     "metadata": {},
     "output_type": "execute_result"
    }
   ],
   "source": [
    "a(18)"
   ]
  },
  {
   "cell_type": "code",
   "execution_count": 67,
   "id": "402f563b",
   "metadata": {},
   "outputs": [
    {
     "data": {
      "text/plain": [
       "68"
      ]
     },
     "execution_count": 67,
     "metadata": {},
     "output_type": "execute_result"
    }
   ],
   "source": [
    "a(34)"
   ]
  },
  {
   "cell_type": "code",
   "execution_count": 68,
   "id": "95257790",
   "metadata": {},
   "outputs": [
    {
     "data": {
      "text/plain": [
       "[1, 2, 1, 2]"
      ]
     },
     "execution_count": 68,
     "metadata": {},
     "output_type": "execute_result"
    }
   ],
   "source": [
    "a([1,2])"
   ]
  },
  {
   "cell_type": "code",
   "execution_count": 69,
   "id": "3b3d0352",
   "metadata": {},
   "outputs": [
    {
     "data": {
      "text/plain": [
       "'tharuntharun'"
      ]
     },
     "execution_count": 69,
     "metadata": {},
     "output_type": "execute_result"
    }
   ],
   "source": [
    "a('tharun')"
   ]
  },
  {
   "cell_type": "code",
   "execution_count": 70,
   "id": "6b85f70b",
   "metadata": {},
   "outputs": [
    {
     "data": {
      "text/plain": [
       "(1, 2, 1, 2)"
      ]
     },
     "execution_count": 70,
     "metadata": {},
     "output_type": "execute_result"
    }
   ],
   "source": [
    "a((1,2))"
   ]
  },
  {
   "cell_type": "code",
   "execution_count": 97,
   "id": "61060c58",
   "metadata": {},
   "outputs": [],
   "source": [
    "numbers = [1,2,3,4,5,6,7,8,9]"
   ]
  },
  {
   "cell_type": "code",
   "execution_count": 112,
   "id": "ccb1b03b",
   "metadata": {},
   "outputs": [],
   "source": [
    "def isEven(x):\n",
    "    if x%2 == 0:\n",
    "        return True\n",
    "    else:\n",
    "        return False"
   ]
  },
  {
   "cell_type": "code",
   "execution_count": 117,
   "id": "11158922",
   "metadata": {},
   "outputs": [
    {
     "data": {
      "text/plain": [
       "[2, 4, 6, 8]"
      ]
     },
     "execution_count": 117,
     "metadata": {},
     "output_type": "execute_result"
    }
   ],
   "source": [
    "list(filter(isEven,numbers))"
   ]
  },
  {
   "cell_type": "code",
   "execution_count": null,
   "id": "90ea72f5",
   "metadata": {},
   "outputs": [],
   "source": [
    "x = 2"
   ]
  },
  {
   "cell_type": "code",
   "execution_count": 118,
   "id": "f216571f",
   "metadata": {},
   "outputs": [],
   "source": [
    "check = lambda x:x%2==0"
   ]
  },
  {
   "cell_type": "code",
   "execution_count": 120,
   "id": "72870b6e",
   "metadata": {},
   "outputs": [
    {
     "data": {
      "text/plain": [
       "True"
      ]
     },
     "execution_count": 120,
     "metadata": {},
     "output_type": "execute_result"
    }
   ],
   "source": [
    "check(4)"
   ]
  },
  {
   "cell_type": "code",
   "execution_count": 121,
   "id": "62bc1f82",
   "metadata": {},
   "outputs": [
    {
     "data": {
      "text/plain": [
       "[2, 4, 6, 8]"
      ]
     },
     "execution_count": 121,
     "metadata": {},
     "output_type": "execute_result"
    }
   ],
   "source": [
    "list(filter(lambda x:x%2==0,numbers))"
   ]
  },
  {
   "cell_type": "code",
   "execution_count": 124,
   "id": "d6bcc01a",
   "metadata": {},
   "outputs": [
    {
     "data": {
      "text/plain": [
       "[1, 2, 3, 4, 5, 6, 7, 8, 9]"
      ]
     },
     "execution_count": 124,
     "metadata": {},
     "output_type": "execute_result"
    }
   ],
   "source": [
    "numbers"
   ]
  },
  {
   "cell_type": "code",
   "execution_count": 125,
   "id": "0d813e8c",
   "metadata": {},
   "outputs": [
    {
     "data": {
      "text/plain": [
       "[2, 4, 6, 8, 10, 12, 14, 16, 18]"
      ]
     },
     "execution_count": 125,
     "metadata": {},
     "output_type": "execute_result"
    }
   ],
   "source": [
    "[2,4,6,8,10,12,14,16,18]"
   ]
  },
  {
   "cell_type": "code",
   "execution_count": 126,
   "id": "8ed542a9",
   "metadata": {},
   "outputs": [],
   "source": [
    "def mapping(x):\n",
    "    return 2*x"
   ]
  },
  {
   "cell_type": "code",
   "execution_count": 127,
   "id": "01fd776d",
   "metadata": {},
   "outputs": [
    {
     "data": {
      "text/plain": [
       "[2, 4, 6, 8, 10, 12, 14, 16, 18]"
      ]
     },
     "execution_count": 127,
     "metadata": {},
     "output_type": "execute_result"
    }
   ],
   "source": [
    "list(map(mapping,numbers))"
   ]
  },
  {
   "cell_type": "code",
   "execution_count": 128,
   "id": "dd05d099",
   "metadata": {},
   "outputs": [
    {
     "data": {
      "text/plain": [
       "[2, 4, 6, 8, 10, 12, 14, 16, 18]"
      ]
     },
     "execution_count": 128,
     "metadata": {},
     "output_type": "execute_result"
    }
   ],
   "source": [
    "list(map(lambda x:x*2,numbers))"
   ]
  },
  {
   "cell_type": "code",
   "execution_count": null,
   "id": "82eadce3",
   "metadata": {},
   "outputs": [],
   "source": []
  }
 ],
 "metadata": {
  "kernelspec": {
   "display_name": "Python 3 (ipykernel)",
   "language": "python",
   "name": "python3"
  },
  "language_info": {
   "codemirror_mode": {
    "name": "ipython",
    "version": 3
   },
   "file_extension": ".py",
   "mimetype": "text/x-python",
   "name": "python",
   "nbconvert_exporter": "python",
   "pygments_lexer": "ipython3",
   "version": "3.11.3"
  }
 },
 "nbformat": 4,
 "nbformat_minor": 5
}
