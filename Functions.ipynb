{
 "cells": [
  {
   "cell_type": "markdown",
   "id": "9554a210",
   "metadata": {},
   "source": [
    "# Functions\n",
    "- Functions are code blocks which will be used repeatedly\n",
    "- Function will take inputs\n",
    "- By using those inputs it will work --> apply logic\n",
    "- The output from the work(logic) should be given back"
   ]
  },
  {
   "cell_type": "code",
   "execution_count": 10,
   "id": "e353143b",
   "metadata": {},
   "outputs": [],
   "source": [
    "def functional_block_name(inpu1,input2, input3):\n",
    "    # using these inputs you have to write the logic\n",
    "    # Output variable \n",
    "    # return the varible to whom you have been called by\n",
    "    pass"
   ]
  },
  {
   "cell_type": "code",
   "execution_count": 6,
   "id": "47996924",
   "metadata": {},
   "outputs": [
    {
     "name": "stdout",
     "output_type": "stream",
     "text": [
      "Hello Tharun!\n",
      "How are you?\n"
     ]
    }
   ],
   "source": [
    "print(\"Hello Tharun!\\nHow are you?\")"
   ]
  },
  {
   "cell_type": "code",
   "execution_count": 7,
   "id": "2701708a",
   "metadata": {},
   "outputs": [
    {
     "name": "stdout",
     "output_type": "stream",
     "text": [
      "\n",
      "USER MENU:\n",
      " 1. Addition\n",
      " 2. Subtraction\n",
      " 3. Multiplication\n",
      " 4. Division\n",
      " 5. Exit\n",
      "\n",
      "Please Enter your choice: 5\n",
      "Thank you for using. Exiting!!!\n"
     ]
    }
   ],
   "source": [
    "status = True\n",
    "while status:\n",
    "    print(\"\\nUSER MENU:\\n 1. Addition\\n 2. Subtraction\\n 3. Multiplication\\n 4. Division\\n 5. Exit\\n\")\n",
    "    choice = int(input(\"Please Enter your choice: \"))\n",
    "    if choice == 1:\n",
    "        input1 = int(input(\"Enter input1: \"))\n",
    "        input2 = int(input(\"Enter input2: \"))\n",
    "        addition = input1 + input2\n",
    "        print(f\"Your Addition is: {addition}\")\n",
    "    elif choice == 2:\n",
    "        input1 = int(input(\"Enter input1: \"))\n",
    "        input2 = int(input(\"Enter input2: \"))\n",
    "        addition = input1 - input2\n",
    "        print(f\"Your Subtraction is: {addition}\")\n",
    "    elif choice == 3:\n",
    "        input1 = int(input(\"Enter input1: \"))\n",
    "        input2 = int(input(\"Enter input2: \"))\n",
    "        addition = input1 * input2\n",
    "        print(f\"Your Multiplication is: {addition}\")\n",
    "    elif choice == 4:\n",
    "        input1 = int(input(\"Enter input1: \"))\n",
    "        input2 = int(input(\"Enter input2: \"))\n",
    "        addition = input1 / input2\n",
    "        print(f\"Your Division is: {addition}\")\n",
    "    elif choice == 5:\n",
    "        print(\"Thank you for using. Exiting!!!\")\n",
    "        status = False"
   ]
  },
  {
   "cell_type": "code",
   "execution_count": 37,
   "id": "834bf257",
   "metadata": {},
   "outputs": [],
   "source": [
    "def greeting():\n",
    "    print(\"Hello guys! Welcome!\")"
   ]
  },
  {
   "cell_type": "code",
   "execution_count": 14,
   "id": "d8a5fca6",
   "metadata": {},
   "outputs": [
    {
     "name": "stdout",
     "output_type": "stream",
     "text": [
      "Hello guys! Welcome!\n"
     ]
    }
   ],
   "source": [
    "greeting()"
   ]
  },
  {
   "cell_type": "code",
   "execution_count": 32,
   "id": "a23bb8d8",
   "metadata": {},
   "outputs": [
    {
     "name": "stdout",
     "output_type": "stream",
     "text": [
      "sdfjksdfnsdj\n"
     ]
    }
   ],
   "source": [
    "diplay()"
   ]
  },
  {
   "cell_type": "code",
   "execution_count": 31,
   "id": "8dca332d",
   "metadata": {},
   "outputs": [],
   "source": [
    "def diplay():\n",
    "    print(\"sdfjksdfnsdj\")"
   ]
  },
  {
   "cell_type": "code",
   "execution_count": 33,
   "id": "5bba501e",
   "metadata": {},
   "outputs": [
    {
     "name": "stdout",
     "output_type": "stream",
     "text": [
      "sdfjksdfnsdj\n"
     ]
    }
   ],
   "source": [
    "diplay()"
   ]
  },
  {
   "cell_type": "code",
   "execution_count": 23,
   "id": "3199db16",
   "metadata": {},
   "outputs": [],
   "source": [
    "a = 78"
   ]
  },
  {
   "cell_type": "code",
   "execution_count": 43,
   "id": "43cce683",
   "metadata": {},
   "outputs": [],
   "source": [
    "def take_two_inputs():\n",
    "    input1 = int(input(\"Enter input1: \"))\n",
    "    input2 = int(input(\"Enter input2: \"))\n",
    "    return input1, input2"
   ]
  },
  {
   "cell_type": "markdown",
   "id": "eae4fbd8",
   "metadata": {},
   "source": [
    "# Variable Scope\n",
    "- variable scope will be defined by any block\n",
    "- if a variable is defined in one specific block it is called local variable\n",
    "- If a varible is defined out of all code blocks or in a global space then it is called global variable"
   ]
  },
  {
   "cell_type": "code",
   "execution_count": 1,
   "id": "58e8a54e",
   "metadata": {},
   "outputs": [
    {
     "name": "stdout",
     "output_type": "stream",
     "text": [
      "\n",
      "USER MENU:\n",
      " 1. Addition\n",
      " 2. Subtraction\n",
      " 3. Multiplication\n",
      " 4. Division\n",
      " 5. Exit\n",
      "\n",
      "Please Enter your choice: 5\n",
      "Thank you for using! Exiting\n",
      "Out Of the software\n"
     ]
    }
   ],
   "source": [
    "status = True\n",
    "while status:\n",
    "    print(\"\\nUSER MENU:\\n 1. Addition\\n 2. Subtraction\\n 3. Multiplication\\n 4. Division\\n 5. Exit\\n\")\n",
    "    choice = int(input(\"Please Enter your choice: \"))\n",
    "    if choice == 5:\n",
    "        print(\"Thank you for using! Exiting\")\n",
    "        status = False\n",
    "    else:\n",
    "        input1, input2 = take_two_inputs()\n",
    "        if choice == 1:\n",
    "            addition = input1 + input2\n",
    "            print(f\"Your Addition is:{addition}\")\n",
    "        elif choice == 2:\n",
    "            addition = input1 - input2\n",
    "            print(f\"Your Subtraction is:{addition}\")\n",
    "        elif choice == 3:\n",
    "            addition = input1 * input2\n",
    "            print(f\"Your Multiplication is:{addition}\")\n",
    "        elif choice == 4:\n",
    "            addition = input1 / input2\n",
    "            print(f\"Your Divisions is:{addition}\")\n",
    "print(\"Out Of the software\")"
   ]
  },
  {
   "cell_type": "code",
   "execution_count": 24,
   "id": "cedfdbfb",
   "metadata": {},
   "outputs": [
    {
     "data": {
      "text/plain": [
       "78"
      ]
     },
     "execution_count": 24,
     "metadata": {},
     "output_type": "execute_result"
    }
   ],
   "source": [
    "a"
   ]
  },
  {
   "cell_type": "code",
   "execution_count": null,
   "id": "9751972a",
   "metadata": {},
   "outputs": [],
   "source": []
  }
 ],
 "metadata": {
  "kernelspec": {
   "display_name": "Python 3 (ipykernel)",
   "language": "python",
   "name": "python3"
  },
  "language_info": {
   "codemirror_mode": {
    "name": "ipython",
    "version": 3
   },
   "file_extension": ".py",
   "mimetype": "text/x-python",
   "name": "python",
   "nbconvert_exporter": "python",
   "pygments_lexer": "ipython3",
   "version": "3.11.3"
  }
 },
 "nbformat": 4,
 "nbformat_minor": 5
}
