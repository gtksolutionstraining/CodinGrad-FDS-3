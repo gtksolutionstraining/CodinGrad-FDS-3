{
 "cells": [
  {
   "cell_type": "markdown",
   "id": "9554a210",
   "metadata": {},
   "source": [
    "# Functions\n",
    "- Functions are code blocks which will be used repeatedly\n",
    "- Function will take inputs\n",
    "- By using those inputs it will work --> apply logic\n",
    "- The output from the work(logic) should be given back"
   ]
  },
  {
   "cell_type": "code",
   "execution_count": 10,
   "id": "e353143b",
   "metadata": {},
   "outputs": [],
   "source": [
    "def functional_block_name(inpu1,input2, input3):\n",
    "    # using these inputs you have to write the logic\n",
    "    # Output variable \n",
    "    # return the varible to whom you have been called by\n",
    "    pass"
   ]
  },
  {
   "cell_type": "code",
   "execution_count": 6,
   "id": "47996924",
   "metadata": {},
   "outputs": [
    {
     "name": "stdout",
     "output_type": "stream",
     "text": [
      "Hello Tharun!\n",
      "How are you?\n"
     ]
    }
   ],
   "source": [
    "print(\"Hello Tharun!\\nHow are you?\")"
   ]
  },
  {
   "cell_type": "code",
   "execution_count": 7,
   "id": "2701708a",
   "metadata": {},
   "outputs": [
    {
     "name": "stdout",
     "output_type": "stream",
     "text": [
      "\n",
      "USER MENU:\n",
      " 1. Addition\n",
      " 2. Subtraction\n",
      " 3. Multiplication\n",
      " 4. Division\n",
      " 5. Exit\n",
      "\n",
      "Please Enter your choice: 5\n",
      "Thank you for using. Exiting!!!\n"
     ]
    }
   ],
   "source": [
    "status = True\n",
    "while status:\n",
    "    print(\"\\nUSER MENU:\\n 1. Addition\\n 2. Subtraction\\n 3. Multiplication\\n 4. Division\\n 5. Exit\\n\")\n",
    "    choice = int(input(\"Please Enter your choice: \"))\n",
    "    if choice == 1:\n",
    "        input1 = int(input(\"Enter input1: \"))\n",
    "        input2 = int(input(\"Enter input2: \"))\n",
    "        addition = input1 + input2\n",
    "        print(f\"Your Addition is: {addition}\")\n",
    "    elif choice == 2:\n",
    "        input1 = int(input(\"Enter input1: \"))\n",
    "        input2 = int(input(\"Enter input2: \"))\n",
    "        addition = input1 - input2\n",
    "        print(f\"Your Subtraction is: {addition}\")\n",
    "    elif choice == 3:\n",
    "        input1 = int(input(\"Enter input1: \"))\n",
    "        input2 = int(input(\"Enter input2: \"))\n",
    "        addition = input1 * input2\n",
    "        print(f\"Your Multiplication is: {addition}\")\n",
    "    elif choice == 4:\n",
    "        input1 = int(input(\"Enter input1: \"))\n",
    "        input2 = int(input(\"Enter input2: \"))\n",
    "        addition = input1 / input2\n",
    "        print(f\"Your Division is: {addition}\")\n",
    "    elif choice == 5:\n",
    "        print(\"Thank you for using. Exiting!!!\")\n",
    "        status = False"
   ]
  },
  {
   "cell_type": "code",
   "execution_count": 37,
   "id": "834bf257",
   "metadata": {},
   "outputs": [],
   "source": [
    "def greeting():\n",
    "    print(\"Hello guys! Welcome!\")"
   ]
  },
  {
   "cell_type": "code",
   "execution_count": 14,
   "id": "d8a5fca6",
   "metadata": {},
   "outputs": [
    {
     "name": "stdout",
     "output_type": "stream",
     "text": [
      "Hello guys! Welcome!\n"
     ]
    }
   ],
   "source": [
    "greeting()"
   ]
  },
  {
   "cell_type": "code",
   "execution_count": 32,
   "id": "a23bb8d8",
   "metadata": {},
   "outputs": [
    {
     "name": "stdout",
     "output_type": "stream",
     "text": [
      "sdfjksdfnsdj\n"
     ]
    }
   ],
   "source": [
    "diplay()"
   ]
  },
  {
   "cell_type": "code",
   "execution_count": 31,
   "id": "8dca332d",
   "metadata": {},
   "outputs": [],
   "source": [
    "def diplay():\n",
    "    print(\"sdfjksdfnsdj\")"
   ]
  },
  {
   "cell_type": "code",
   "execution_count": 33,
   "id": "5bba501e",
   "metadata": {},
   "outputs": [
    {
     "name": "stdout",
     "output_type": "stream",
     "text": [
      "sdfjksdfnsdj\n"
     ]
    }
   ],
   "source": [
    "diplay()"
   ]
  },
  {
   "cell_type": "code",
   "execution_count": 23,
   "id": "3199db16",
   "metadata": {},
   "outputs": [],
   "source": [
    "a = 78"
   ]
  },
  {
   "cell_type": "code",
   "execution_count": 43,
   "id": "43cce683",
   "metadata": {},
   "outputs": [],
   "source": [
    "def take_two_inputs():\n",
    "    input1 = int(input(\"Enter input1: \"))\n",
    "    input2 = int(input(\"Enter input2: \"))\n",
    "    return input1, input2"
   ]
  },
  {
   "cell_type": "code",
   "execution_count": 26,
   "id": "df835841",
   "metadata": {},
   "outputs": [
    {
     "name": "stdout",
     "output_type": "stream",
     "text": [
      "78\n"
     ]
    },
    {
     "ename": "KeyboardInterrupt",
     "evalue": "Interrupted by user",
     "output_type": "error",
     "traceback": [
      "\u001b[0;31m---------------------------------------------------------------------------\u001b[0m",
      "\u001b[0;31mKeyboardInterrupt\u001b[0m                         Traceback (most recent call last)",
      "Cell \u001b[0;32mIn[26], line 1\u001b[0m\n\u001b[0;32m----> 1\u001b[0m \u001b[43mtake_two_inputs\u001b[49m\u001b[43m(\u001b[49m\u001b[43m)\u001b[49m\n",
      "Cell \u001b[0;32mIn[25], line 3\u001b[0m, in \u001b[0;36mtake_two_inputs\u001b[0;34m()\u001b[0m\n\u001b[1;32m      1\u001b[0m \u001b[38;5;28;01mdef\u001b[39;00m \u001b[38;5;21mtake_two_inputs\u001b[39m():\n\u001b[1;32m      2\u001b[0m     \u001b[38;5;28mprint\u001b[39m(a)\n\u001b[0;32m----> 3\u001b[0m     input11 \u001b[38;5;241m=\u001b[39m \u001b[38;5;28mint\u001b[39m(\u001b[38;5;28;43minput\u001b[39;49m\u001b[43m(\u001b[49m\u001b[38;5;124;43m\"\u001b[39;49m\u001b[38;5;124;43mEnter input1: \u001b[39;49m\u001b[38;5;124;43m\"\u001b[39;49m\u001b[43m)\u001b[49m)\n\u001b[1;32m      4\u001b[0m     input22 \u001b[38;5;241m=\u001b[39m \u001b[38;5;28mint\u001b[39m(\u001b[38;5;28minput\u001b[39m(\u001b[38;5;124m\"\u001b[39m\u001b[38;5;124mEnter input2: \u001b[39m\u001b[38;5;124m\"\u001b[39m))\n\u001b[1;32m      5\u001b[0m     \u001b[38;5;28;01mreturn\u001b[39;00m input1, input2\n",
      "File \u001b[0;32m~/GTK/CodinGrad/env/lib/python3.11/site-packages/ipykernel/kernelbase.py:1191\u001b[0m, in \u001b[0;36mKernel.raw_input\u001b[0;34m(self, prompt)\u001b[0m\n\u001b[1;32m   1189\u001b[0m     msg \u001b[38;5;241m=\u001b[39m \u001b[38;5;124m\"\u001b[39m\u001b[38;5;124mraw_input was called, but this frontend does not support input requests.\u001b[39m\u001b[38;5;124m\"\u001b[39m\n\u001b[1;32m   1190\u001b[0m     \u001b[38;5;28;01mraise\u001b[39;00m StdinNotImplementedError(msg)\n\u001b[0;32m-> 1191\u001b[0m \u001b[38;5;28;01mreturn\u001b[39;00m \u001b[38;5;28;43mself\u001b[39;49m\u001b[38;5;241;43m.\u001b[39;49m\u001b[43m_input_request\u001b[49m\u001b[43m(\u001b[49m\n\u001b[1;32m   1192\u001b[0m \u001b[43m    \u001b[49m\u001b[38;5;28;43mstr\u001b[39;49m\u001b[43m(\u001b[49m\u001b[43mprompt\u001b[49m\u001b[43m)\u001b[49m\u001b[43m,\u001b[49m\n\u001b[1;32m   1193\u001b[0m \u001b[43m    \u001b[49m\u001b[38;5;28;43mself\u001b[39;49m\u001b[38;5;241;43m.\u001b[39;49m\u001b[43m_parent_ident\u001b[49m\u001b[43m[\u001b[49m\u001b[38;5;124;43m\"\u001b[39;49m\u001b[38;5;124;43mshell\u001b[39;49m\u001b[38;5;124;43m\"\u001b[39;49m\u001b[43m]\u001b[49m\u001b[43m,\u001b[49m\n\u001b[1;32m   1194\u001b[0m \u001b[43m    \u001b[49m\u001b[38;5;28;43mself\u001b[39;49m\u001b[38;5;241;43m.\u001b[39;49m\u001b[43mget_parent\u001b[49m\u001b[43m(\u001b[49m\u001b[38;5;124;43m\"\u001b[39;49m\u001b[38;5;124;43mshell\u001b[39;49m\u001b[38;5;124;43m\"\u001b[39;49m\u001b[43m)\u001b[49m\u001b[43m,\u001b[49m\n\u001b[1;32m   1195\u001b[0m \u001b[43m    \u001b[49m\u001b[43mpassword\u001b[49m\u001b[38;5;241;43m=\u001b[39;49m\u001b[38;5;28;43;01mFalse\u001b[39;49;00m\u001b[43m,\u001b[49m\n\u001b[1;32m   1196\u001b[0m \u001b[43m\u001b[49m\u001b[43m)\u001b[49m\n",
      "File \u001b[0;32m~/GTK/CodinGrad/env/lib/python3.11/site-packages/ipykernel/kernelbase.py:1234\u001b[0m, in \u001b[0;36mKernel._input_request\u001b[0;34m(self, prompt, ident, parent, password)\u001b[0m\n\u001b[1;32m   1231\u001b[0m \u001b[38;5;28;01mexcept\u001b[39;00m \u001b[38;5;167;01mKeyboardInterrupt\u001b[39;00m:\n\u001b[1;32m   1232\u001b[0m     \u001b[38;5;66;03m# re-raise KeyboardInterrupt, to truncate traceback\u001b[39;00m\n\u001b[1;32m   1233\u001b[0m     msg \u001b[38;5;241m=\u001b[39m \u001b[38;5;124m\"\u001b[39m\u001b[38;5;124mInterrupted by user\u001b[39m\u001b[38;5;124m\"\u001b[39m\n\u001b[0;32m-> 1234\u001b[0m     \u001b[38;5;28;01mraise\u001b[39;00m \u001b[38;5;167;01mKeyboardInterrupt\u001b[39;00m(msg) \u001b[38;5;28;01mfrom\u001b[39;00m \u001b[38;5;28;01mNone\u001b[39;00m\n\u001b[1;32m   1235\u001b[0m \u001b[38;5;28;01mexcept\u001b[39;00m \u001b[38;5;167;01mException\u001b[39;00m:\n\u001b[1;32m   1236\u001b[0m     \u001b[38;5;28mself\u001b[39m\u001b[38;5;241m.\u001b[39mlog\u001b[38;5;241m.\u001b[39mwarning(\u001b[38;5;124m\"\u001b[39m\u001b[38;5;124mInvalid Message:\u001b[39m\u001b[38;5;124m\"\u001b[39m, exc_info\u001b[38;5;241m=\u001b[39m\u001b[38;5;28;01mTrue\u001b[39;00m)\n",
      "\u001b[0;31mKeyboardInterrupt\u001b[0m: Interrupted by user"
     ]
    }
   ],
   "source": [
    "take_two_inputs()"
   ]
  },
  {
   "cell_type": "code",
   "execution_count": 22,
   "id": "9172129c",
   "metadata": {},
   "outputs": [
    {
     "ename": "NameError",
     "evalue": "name 'input11' is not defined",
     "output_type": "error",
     "traceback": [
      "\u001b[0;31m---------------------------------------------------------------------------\u001b[0m",
      "\u001b[0;31mNameError\u001b[0m                                 Traceback (most recent call last)",
      "Cell \u001b[0;32mIn[22], line 1\u001b[0m\n\u001b[0;32m----> 1\u001b[0m \u001b[43minput11\u001b[49m\n",
      "\u001b[0;31mNameError\u001b[0m: name 'input11' is not defined"
     ]
    }
   ],
   "source": [
    "input11"
   ]
  },
  {
   "cell_type": "markdown",
   "id": "eae4fbd8",
   "metadata": {},
   "source": [
    "# Variable Scope\n",
    "- variable scope will be defined by any block\n",
    "- if a variable is defined in one specific block it is called local variable\n",
    "- If a varible is defined out of all code blocks or in a global space then it is called global variable"
   ]
  },
  {
   "cell_type": "code",
   "execution_count": 44,
   "id": "58e8a54e",
   "metadata": {},
   "outputs": [
    {
     "name": "stdout",
     "output_type": "stream",
     "text": [
      "\n",
      "USER MENU:\n",
      " 1. Addition\n",
      " 2. Subtraction\n",
      " 3. Multiplication\n",
      " 4. Division\n",
      " 5. Exit\n",
      "\n",
      "Please Enter your choice: 1\n",
      "Enter input1: 12\n",
      "Enter input2: 12\n",
      "Your Addition is:24\n",
      "\n",
      "USER MENU:\n",
      " 1. Addition\n",
      " 2. Subtraction\n",
      " 3. Multiplication\n",
      " 4. Division\n",
      " 5. Exit\n",
      "\n",
      "Please Enter your choice: 3\n",
      "Enter input1: 3\n",
      "Enter input2: 2\n",
      "Your Multiplication is:6\n",
      "\n",
      "USER MENU:\n",
      " 1. Addition\n",
      " 2. Subtraction\n",
      " 3. Multiplication\n",
      " 4. Division\n",
      " 5. Exit\n",
      "\n",
      "Please Enter your choice: 5\n",
      "Thank you for using! Exiting\n"
     ]
    }
   ],
   "source": [
    "status = True\n",
    "while status:\n",
    "    print(\"\\nUSER MENU:\\n 1. Addition\\n 2. Subtraction\\n 3. Multiplication\\n 4. Division\\n 5. Exit\\n\")\n",
    "    choice = int(input(\"Please Enter your choice: \"))\n",
    "    if choice == 5:\n",
    "        print(\"Thank you for using! Exiting\")\n",
    "        status = False\n",
    "    else:\n",
    "        input1, input2 = take_two_inputs()\n",
    "        if choice == 1:\n",
    "            addition = input1 + input2\n",
    "            print(f\"Your Addition is:{addition}\")\n",
    "        elif choice == 2:\n",
    "            addition = input1 - input2\n",
    "            print(f\"Your Subtraction is:{addition}\")\n",
    "        elif choice == 3:\n",
    "            addition = input1 * input2\n",
    "            print(f\"Your Multiplication is:{addition}\")\n",
    "        elif choice == 4:\n",
    "            addition = input1 / input2\n",
    "            print(f\"Your Divisions is:{addition}\")"
   ]
  },
  {
   "cell_type": "code",
   "execution_count": 24,
   "id": "cedfdbfb",
   "metadata": {},
   "outputs": [
    {
     "data": {
      "text/plain": [
       "78"
      ]
     },
     "execution_count": 24,
     "metadata": {},
     "output_type": "execute_result"
    }
   ],
   "source": [
    "a"
   ]
  },
  {
   "cell_type": "code",
   "execution_count": null,
   "id": "9751972a",
   "metadata": {},
   "outputs": [],
   "source": []
  }
 ],
 "metadata": {
  "kernelspec": {
   "display_name": "Python 3 (ipykernel)",
   "language": "python",
   "name": "python3"
  },
  "language_info": {
   "codemirror_mode": {
    "name": "ipython",
    "version": 3
   },
   "file_extension": ".py",
   "mimetype": "text/x-python",
   "name": "python",
   "nbconvert_exporter": "python",
   "pygments_lexer": "ipython3",
   "version": "3.11.3"
  }
 },
 "nbformat": 4,
 "nbformat_minor": 5
}
