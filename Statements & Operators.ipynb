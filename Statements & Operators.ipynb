{
 "cells": [
  {
   "cell_type": "markdown",
   "id": "47519fc9",
   "metadata": {},
   "source": [
    "# Typical Python Program\n",
    "\n",
    "Python Programming is mostly Functional Programming Languages for beginners\n",
    "- A Typical Python program is a collection of functions and statements\n",
    "- Statement = A variable assigned by an expression\n",
    "- Expression = A mathematical expression --> Every operation in Mathematics is an expression\n",
    "- -  Example: 6+7, 8*8, 1.6/6.7\n",
    "- Example: sum_ = input1 + input2\n",
    "- Statement --> Any Operation either you can have a varible assigned to it or not\n",
    "- -  Example: 6+7, sum_ = input1+input2, we will also call functions\n",
    "\n",
    "- Every Python Programs execution will be started from the statement 1\n",
    "- Will function execute?\n",
    "- -  Functions will not be executed but they are digested for the future use\n",
    "- Except Function function definitions and class definition everything else is a statement"
   ]
  },
  {
   "cell_type": "code",
   "execution_count": 1,
   "id": "32ae2e61",
   "metadata": {},
   "outputs": [
    {
     "data": {
      "text/plain": [
       "13"
      ]
     },
     "execution_count": 1,
     "metadata": {},
     "output_type": "execute_result"
    }
   ],
   "source": [
    "6+7"
   ]
  },
  {
   "cell_type": "code",
   "execution_count": 2,
   "id": "2ea1d0be",
   "metadata": {},
   "outputs": [],
   "source": [
    "a = 8+9"
   ]
  },
  {
   "cell_type": "code",
   "execution_count": null,
   "id": "98a64f57",
   "metadata": {},
   "outputs": [],
   "source": []
  }
 ],
 "metadata": {
  "kernelspec": {
   "display_name": "Python 3 (ipykernel)",
   "language": "python",
   "name": "python3"
  },
  "language_info": {
   "codemirror_mode": {
    "name": "ipython",
    "version": 3
   },
   "file_extension": ".py",
   "mimetype": "text/x-python",
   "name": "python",
   "nbconvert_exporter": "python",
   "pygments_lexer": "ipython3",
   "version": "3.11.3"
  }
 },
 "nbformat": 4,
 "nbformat_minor": 5
}
